{
    "cells": [
        {
            "cell_type": "markdown",
            "metadata": {},
            "source": "#### Importing all the libraries"
        },
        {
            "cell_type": "code",
            "execution_count": 1,
            "metadata": {},
            "outputs": [],
            "source": "\nimport pandas as pd\nimport numpy as np\nimport matplotlib.pyplot as plt\nimport seaborn as sns\n%matplotlib inline"
        },
        {
            "cell_type": "markdown",
            "metadata": {},
            "source": "#### We will be using BeautifulSoup library for web scraping"
        },
        {
            "cell_type": "code",
            "execution_count": 2,
            "metadata": {},
            "outputs": [],
            "source": "from urllib.request import urlopen\nfrom bs4 import BeautifulSoup"
        },
        {
            "cell_type": "markdown",
            "metadata": {},
            "source": "#### We will get the postal codes of Toronto from this wiki page"
        },
        {
            "cell_type": "code",
            "execution_count": 3,
            "metadata": {},
            "outputs": [],
            "source": "url=\"https://en.wikipedia.org/wiki/List_of_postal_codes_of_Canada:_M\"\nhtml=urlopen(url)"
        },
        {
            "cell_type": "markdown",
            "metadata": {},
            "source": "#### create a Beautiful Soup object"
        },
        {
            "cell_type": "code",
            "execution_count": 4,
            "metadata": {},
            "outputs": [
                {
                    "data": {
                        "text/plain": "bs4.BeautifulSoup"
                    },
                    "execution_count": 4,
                    "metadata": {},
                    "output_type": "execute_result"
                }
            ],
            "source": "soup=BeautifulSoup(html,'lxml')\ntype(soup)"
        },
        {
            "cell_type": "markdown",
            "metadata": {},
            "source": "#### Using find_all() method of soup to extract tablerows tags within a webpage"
        },
        {
            "cell_type": "code",
            "execution_count": 5,
            "metadata": {},
            "outputs": [
                {
                    "data": {
                        "text/plain": "[<tr>\n <th>Postal Code\n </th>\n <th>Borough\n </th>\n <th>Neighborhood\n </th></tr>, <tr>\n <td>M1A\n </td>\n <td>Not assigned\n </td>\n <td>Not assigned\n </td></tr>, <tr>\n <td>M2A\n </td>\n <td>Not assigned\n </td>\n <td>Not assigned\n </td></tr>, <tr>\n <td>M3A\n </td>\n <td>North York\n </td>\n <td>Parkwoods\n </td></tr>, <tr>\n <td>M4A\n </td>\n <td>North York\n </td>\n <td>Victoria Village\n </td></tr>]"
                    },
                    "execution_count": 5,
                    "metadata": {},
                    "output_type": "execute_result"
                }
            ],
            "source": "rows=soup.find_all('tr')\nrows[:5]"
        },
        {
            "cell_type": "markdown",
            "metadata": {},
            "source": "#### Using regular expressions that finds all the characters inside the td html tags and replace them with an empty string for each table row and reformtting as needed"
        },
        {
            "cell_type": "code",
            "execution_count": 6,
            "metadata": {},
            "outputs": [
                {
                    "name": "stdout",
                    "output_type": "stream",
                    "text": "['[]', '[M1A,Notassigned,Notassigned]', '[M2A,Notassigned,Notassigned]', '[M3A,NorthYork,Parkwoods]', '[M4A,NorthYork,VictoriaVillage]', '[M5A,DowntownToronto,RegentPark,Harbourfront]', '[M6A,NorthYork,LawrenceManor,LawrenceHeights]', \"[M7A,DowntownToronto,Queen'sPark,OntarioProvincialGovernment]\", '[M8A,Notassigned,Notassigned]', '[M9A,Etobicoke,IslingtonAvenue,HumberValleyVillage]', '[M1B,Scarborough,Malvern,Rouge]', '[M2B,Notassigned,Notassigned]', '[M3B,NorthYork,DonMills]', '[M4B,EastYork,ParkviewHill,WoodbineGardens]', '[M5B,DowntownToronto,GardenDistrict,Ryerson]', '[M6B,NorthYork,Glencairn]', '[M7B,Notassigned,Notassigned]', '[M8B,Notassigned,Notassigned]', '[M9B,Etobicoke,WestDeanePark,PrincessGardens,MartinGrove,Islington,Cloverdale]', '[M1C,Scarborough,RougeHill,PortUnion,HighlandCreek]', '[M2C,Notassigned,Notassigned]', '[M3C,NorthYork,DonMills]', '[M4C,EastYork,WoodbineHeights]', '[M5C,DowntownToronto,St.JamesTown]', '[M6C,York,Humewood-Cedarvale]', '[M7C,Notassigned,Notassigned]', '[M8C,Notassigned,Notassigned]', '[M9C,Etobicoke,Eringate,BloordaleGardens,OldBurnhamthorpe,MarklandWood]', '[M1E,Scarborough,Guildwood,Morningside,WestHill]', '[M2E,Notassigned,Notassigned]', '[M3E,Notassigned,Notassigned]', '[M4E,EastToronto,TheBeaches]', '[M5E,DowntownToronto,BerczyPark]', '[M6E,York,Caledonia-Fairbanks]', '[M7E,Notassigned,Notassigned]', '[M8E,Notassigned,Notassigned]', '[M9E,Notassigned,Notassigned]', '[M1G,Scarborough,Woburn]', '[M2G,Notassigned,Notassigned]', '[M3G,Notassigned,Notassigned]', '[M4G,EastYork,Leaside]', '[M5G,DowntownToronto,CentralBayStreet]', '[M6G,DowntownToronto,Christie]', '[M7G,Notassigned,Notassigned]', '[M8G,Notassigned,Notassigned]', '[M9G,Notassigned,Notassigned]', '[M1H,Scarborough,Cedarbrae]', '[M2H,NorthYork,HillcrestVillage]', '[M3H,NorthYork,BathurstManor,WilsonHeights,DownsviewNorth]', '[M4H,EastYork,ThorncliffePark]', '[M5H,DowntownToronto,Richmond,Adelaide,King]', '[M6H,WestToronto,Dufferin,DovercourtVillage]', '[M7H,Notassigned,Notassigned]', '[M8H,Notassigned,Notassigned]', '[M9H,Notassigned,Notassigned]', '[M1J,Scarborough,ScarboroughVillage]', '[M2J,NorthYork,Fairview,HenryFarm,Oriole]', '[M3J,NorthYork,NorthwoodPark,YorkUniversity]', '[M4J,EastYork,EastToronto,BroadviewNorth(OldEastYork)]', '[M5J,DowntownToronto,HarbourfrontEast,UnionStation,TorontoIslands]', '[M6J,WestToronto,LittlePortugal,Trinity]', '[M7J,Notassigned,Notassigned]', '[M8J,Notassigned,Notassigned]', '[M9J,Notassigned,Notassigned]', '[M1K,Scarborough,KennedyPark,Ionview,EastBirchmountPark]', '[M2K,NorthYork,BayviewVillage]', '[M3K,NorthYork,Downsview]', '[M4K,EastToronto,TheDanforthWest,Riverdale]', '[M5K,DowntownToronto,TorontoDominionCentre,DesignExchange]', '[M6K,WestToronto,Brockton,ParkdaleVillage,ExhibitionPlace]', '[M7K,Notassigned,Notassigned]', '[M8K,Notassigned,Notassigned]', '[M9K,Notassigned,Notassigned]', '[M1L,Scarborough,GoldenMile,Clairlea,Oakridge]', '[M2L,NorthYork,YorkMills,SilverHills]', '[M3L,NorthYork,Downsview]', '[M4L,EastToronto,IndiaBazaar,TheBeachesWest]', '[M5L,DowntownToronto,CommerceCourt,VictoriaHotel]', '[M6L,NorthYork,NorthPark,MapleLeafPark,UpwoodPark]', '[M7L,Notassigned,Notassigned]', '[M8L,Notassigned,Notassigned]', '[M9L,NorthYork,HumberSummit]', '[M1M,Scarborough,Cliffside,Cliffcrest,ScarboroughVillageWest]', '[M2M,NorthYork,Willowdale,Newtonbrook]', '[M3M,NorthYork,Downsview]', '[M4M,EastToronto,StudioDistrict]', '[M5M,NorthYork,BedfordPark,LawrenceManorEast]', '[M6M,York,DelRay,MountDennis,KeelsdaleandSilverthorn]', '[M7M,Notassigned,Notassigned]', '[M8M,Notassigned,Notassigned]', '[M9M,NorthYork,Humberlea,Emery]', '[M1N,Scarborough,BirchCliff,CliffsideWest]', '[M2N,NorthYork,Willowdale,WillowdaleEast]', '[M3N,NorthYork,Downsview]', '[M4N,CentralToronto,LawrencePark]', '[M5N,CentralToronto,Roselawn]', '[M6N,York,Runnymede,TheJunctionNorth]', '[M7N,Notassigned,Notassigned]', '[M8N,Notassigned,Notassigned]', '[M9N,York,Weston]', '[M1P,Scarborough,DorsetPark,WexfordHeights,ScarboroughTownCentre]', '[M2P,NorthYork,YorkMillsWest]', '[M3P,Notassigned,Notassigned]', '[M4P,CentralToronto,DavisvilleNorth]', '[M5P,CentralToronto,ForestHillNorth&amp;West,ForestHillRoadPark]', '[M6P,WestToronto,HighPark,TheJunctionSouth]', '[M7P,Notassigned,Notassigned]', '[M8P,Notassigned,Notassigned]', '[M9P,Etobicoke,Westmount]', '[M1R,Scarborough,Wexford,Maryvale]', '[M2R,NorthYork,Willowdale,WillowdaleWest]', '[M3R,Notassigned,Notassigned]', '[M4R,CentralToronto,NorthTorontoWest,LawrencePark]', '[M5R,CentralToronto,TheAnnex,NorthMidtown,Yorkville]', '[M6R,WestToronto,Parkdale,Roncesvalles]', '[M7R,Mississauga,CanadaPostGatewayProcessingCentre]', '[M8R,Notassigned,Notassigned]', '[M9R,Etobicoke,KingsviewVillage,St.Phillips,MartinGroveGardens,RichviewGardens]', '[M1S,Scarborough,Agincourt]', '[M2S,Notassigned,Notassigned]', '[M3S,Notassigned,Notassigned]', '[M4S,CentralToronto,Davisville]', '[M5S,DowntownToronto,UniversityofToronto,Harbord]', '[M6S,WestToronto,Runnymede,Swansea]', '[M7S,Notassigned,Notassigned]', '[M8S,Notassigned,Notassigned]', '[M9S,Notassigned,Notassigned]', \"[M1T,Scarborough,ClarksCorners,TamO'Shanter,Sullivan]\", '[M2T,Notassigned,Notassigned]', '[M3T,Notassigned,Notassigned]', '[M4T,CentralToronto,MoorePark,SummerhillEast]', '[M5T,DowntownToronto,KensingtonMarket,Chinatown,GrangePark]', '[M6T,Notassigned,Notassigned]', '[M7T,Notassigned,Notassigned]', '[M8T,Notassigned,Notassigned]', '[M9T,Notassigned,Notassigned]', \"[M1V,Scarborough,Milliken,AgincourtNorth,SteelesEast,L'AmoreauxEast]\", '[M2V,Notassigned,Notassigned]', '[M3V,Notassigned,Notassigned]', '[M4V,CentralToronto,SummerhillWest,Rathnelly,SouthHill,ForestHillSE,DeerPark]', '[M5V,DowntownToronto,CNTower,KingandSpadina,RailwayLands,HarbourfrontWest,BathurstQuay,SouthNiagara,Islandairport]', '[M6V,Notassigned,Notassigned]', '[M7V,Notassigned,Notassigned]', '[M8V,Etobicoke,NewToronto,MimicoSouth,HumberBayShores]', '[M9V,Etobicoke,SouthSteeles,Silverstone,Humbergate,Jamestown,MountOlive,BeaumondHeights,Thistletown,AlbionGardens]', \"[M1W,Scarborough,SteelesWest,L'AmoreauxWest]\", '[M2W,Notassigned,Notassigned]', '[M3W,Notassigned,Notassigned]', '[M4W,DowntownToronto,Rosedale]', '[M5W,DowntownToronto,StnAPOBoxes]', '[M6W,Notassigned,Notassigned]', '[M7W,Notassigned,Notassigned]', '[M8W,Etobicoke,Alderwood,LongBranch]', '[M9W,Etobicoke,Northwest,WestHumber-Clairville]', '[M1X,Scarborough,UpperRouge]', '[M2X,Notassigned,Notassigned]', '[M3X,Notassigned,Notassigned]', '[M4X,DowntownToronto,St.JamesTown,Cabbagetown]', '[M5X,DowntownToronto,FirstCanadianPlace,Undergroundcity]', '[M6X,Notassigned,Notassigned]', '[M7X,Notassigned,Notassigned]', '[M8X,Etobicoke,TheKingsway,MontgomeryRoad,OldMillNorth]', '[M9X,Notassigned,Notassigned]', '[M1Y,Notassigned,Notassigned]', '[M2Y,Notassigned,Notassigned]', '[M3Y,Notassigned,Notassigned]', '[M4Y,DowntownToronto,ChurchandWellesley]', '[M5Y,Notassigned,Notassigned]', '[M6Y,Notassigned,Notassigned]', '[M7Y,EastToronto,BusinessreplymailProcessingCentre,SouthCentralLetterProcessingPlantToronto]', \"[M8Y,Etobicoke,OldMillSouth,King'sMillPark,Sunnylea,HumberBay,MimicoNE,TheQueenswayEast,RoyalYorkSouthEast,KingswayParkSouthEast]\", '[M9Y,Notassigned,Notassigned]', '[M1Z,Notassigned,Notassigned]', '[M2Z,Notassigned,Notassigned]', '[M3Z,Notassigned,Notassigned]', '[M4Z,Notassigned,Notassigned]', '[M5Z,Notassigned,Notassigned]', '[M6Z,Notassigned,Notassigned]', '[M7Z,Notassigned,Notassigned]', '[M8Z,Etobicoke,MimicoNW,TheQueenswayWest,SouthofBloor,KingswayParkSouthWest,RoyalYorkSouthWest]', '[M9Z,Notassigned,Notassigned]', '[,]', '[NLNSPENBQCONMBSKABBCNU/NTYTABCEGHJKLMNPRSTVXY,NL,NS,PE,NB,QC,ON,MB,SK,AB,BC,NU/NT,YT,A,B,C,E,G,H,J,K,L,M,N,P,R,S,T,V,X,Y]', '[NL,NS,PE,NB,QC,ON,MB,SK,AB,BC,NU/NT,YT]', '[A,B,C,E,G,H,J,K,L,M,N,P,R,S,T,V,X,Y]']\n"
                },
                {
                    "data": {
                        "text/plain": "list"
                    },
                    "execution_count": 6,
                    "metadata": {},
                    "output_type": "execute_result"
                }
            ],
            "source": "import re\nlist_rows = []\nfor row in rows:\n    cells = row.find_all('td')\n    str_cells = str(cells)\n    clean = re.compile('<.*?>')\n    clean2 = (re.sub(clean, '',str_cells))\n    clean3 = re.sub(\"\\s\", \"\", clean2)\n    list_rows.append(clean3)\nprint(list_rows)\ntype(list_rows)"
        },
        {
            "cell_type": "markdown",
            "metadata": {},
            "source": "#### Storing the list in dataframe"
        },
        {
            "cell_type": "code",
            "execution_count": 7,
            "metadata": {},
            "outputs": [],
            "source": "df=pd.DataFrame(list_rows)"
        },
        {
            "cell_type": "code",
            "execution_count": 8,
            "metadata": {},
            "outputs": [
                {
                    "data": {
                        "text/html": "<div>\n<style scoped>\n    .dataframe tbody tr th:only-of-type {\n        vertical-align: middle;\n    }\n\n    .dataframe tbody tr th {\n        vertical-align: top;\n    }\n\n    .dataframe thead th {\n        text-align: right;\n    }\n</style>\n<table border=\"1\" class=\"dataframe\">\n  <thead>\n    <tr style=\"text-align: right;\">\n      <th></th>\n      <th>0</th>\n    </tr>\n  </thead>\n  <tbody>\n    <tr>\n      <th>0</th>\n      <td>[]</td>\n    </tr>\n    <tr>\n      <th>1</th>\n      <td>[M1A,Notassigned,Notassigned]</td>\n    </tr>\n    <tr>\n      <th>2</th>\n      <td>[M2A,Notassigned,Notassigned]</td>\n    </tr>\n    <tr>\n      <th>3</th>\n      <td>[M3A,NorthYork,Parkwoods]</td>\n    </tr>\n    <tr>\n      <th>4</th>\n      <td>[M4A,NorthYork,VictoriaVillage]</td>\n    </tr>\n  </tbody>\n</table>\n</div>",
                        "text/plain": "                                 0\n0                               []\n1    [M1A,Notassigned,Notassigned]\n2    [M2A,Notassigned,Notassigned]\n3        [M3A,NorthYork,Parkwoods]\n4  [M4A,NorthYork,VictoriaVillage]"
                    },
                    "execution_count": 8,
                    "metadata": {},
                    "output_type": "execute_result"
                }
            ],
            "source": "df.head()"
        },
        {
            "cell_type": "markdown",
            "metadata": {},
            "source": "#### Splitting each row on ',' so as to put them in seperate cols and also replacing ' [ ', ' ] ' with space. And also getting rid of all rows having string 'Notassigned'"
        },
        {
            "cell_type": "code",
            "execution_count": 9,
            "metadata": {},
            "outputs": [
                {
                    "data": {
                        "text/html": "<div>\n<style scoped>\n    .dataframe tbody tr th:only-of-type {\n        vertical-align: middle;\n    }\n\n    .dataframe tbody tr th {\n        vertical-align: top;\n    }\n\n    .dataframe thead th {\n        text-align: right;\n    }\n</style>\n<table border=\"1\" class=\"dataframe\">\n  <thead>\n    <tr style=\"text-align: right;\">\n      <th></th>\n      <th>0</th>\n      <th>1</th>\n      <th>2</th>\n    </tr>\n  </thead>\n  <tbody>\n    <tr>\n      <th>0</th>\n      <td></td>\n      <td>None</td>\n      <td>None</td>\n    </tr>\n    <tr>\n      <th>1</th>\n      <td>M3A</td>\n      <td>NorthYork</td>\n      <td>Parkwoods</td>\n    </tr>\n    <tr>\n      <th>2</th>\n      <td>M4A</td>\n      <td>NorthYork</td>\n      <td>VictoriaVillage</td>\n    </tr>\n    <tr>\n      <th>3</th>\n      <td>M5A</td>\n      <td>DowntownToronto</td>\n      <td>RegentPark,Harbourfront</td>\n    </tr>\n    <tr>\n      <th>4</th>\n      <td>M6A</td>\n      <td>NorthYork</td>\n      <td>LawrenceManor,LawrenceHeights</td>\n    </tr>\n    <tr>\n      <th>5</th>\n      <td>M7A</td>\n      <td>DowntownToronto</td>\n      <td>Queen'sPark,OntarioProvincialGovernment</td>\n    </tr>\n    <tr>\n      <th>6</th>\n      <td>M9A</td>\n      <td>Etobicoke</td>\n      <td>IslingtonAvenue,HumberValleyVillage</td>\n    </tr>\n    <tr>\n      <th>7</th>\n      <td>M1B</td>\n      <td>Scarborough</td>\n      <td>Malvern,Rouge</td>\n    </tr>\n    <tr>\n      <th>8</th>\n      <td>M3B</td>\n      <td>NorthYork</td>\n      <td>DonMills</td>\n    </tr>\n    <tr>\n      <th>9</th>\n      <td>M4B</td>\n      <td>EastYork</td>\n      <td>ParkviewHill,WoodbineGardens</td>\n    </tr>\n    <tr>\n      <th>10</th>\n      <td>M5B</td>\n      <td>DowntownToronto</td>\n      <td>GardenDistrict,Ryerson</td>\n    </tr>\n    <tr>\n      <th>11</th>\n      <td>M6B</td>\n      <td>NorthYork</td>\n      <td>Glencairn</td>\n    </tr>\n    <tr>\n      <th>12</th>\n      <td>M9B</td>\n      <td>Etobicoke</td>\n      <td>WestDeanePark,PrincessGardens,MartinGrove,Isli...</td>\n    </tr>\n    <tr>\n      <th>13</th>\n      <td>M1C</td>\n      <td>Scarborough</td>\n      <td>RougeHill,PortUnion,HighlandCreek</td>\n    </tr>\n    <tr>\n      <th>14</th>\n      <td>M3C</td>\n      <td>NorthYork</td>\n      <td>DonMills</td>\n    </tr>\n    <tr>\n      <th>15</th>\n      <td>M4C</td>\n      <td>EastYork</td>\n      <td>WoodbineHeights</td>\n    </tr>\n    <tr>\n      <th>16</th>\n      <td>M5C</td>\n      <td>DowntownToronto</td>\n      <td>St.JamesTown</td>\n    </tr>\n    <tr>\n      <th>17</th>\n      <td>M6C</td>\n      <td>York</td>\n      <td>Humewood-Cedarvale</td>\n    </tr>\n    <tr>\n      <th>18</th>\n      <td>M9C</td>\n      <td>Etobicoke</td>\n      <td>Eringate,BloordaleGardens,OldBurnhamthorpe,Mar...</td>\n    </tr>\n    <tr>\n      <th>19</th>\n      <td>M1E</td>\n      <td>Scarborough</td>\n      <td>Guildwood,Morningside,WestHill</td>\n    </tr>\n    <tr>\n      <th>20</th>\n      <td>M4E</td>\n      <td>EastToronto</td>\n      <td>TheBeaches</td>\n    </tr>\n    <tr>\n      <th>21</th>\n      <td>M5E</td>\n      <td>DowntownToronto</td>\n      <td>BerczyPark</td>\n    </tr>\n    <tr>\n      <th>22</th>\n      <td>M6E</td>\n      <td>York</td>\n      <td>Caledonia-Fairbanks</td>\n    </tr>\n    <tr>\n      <th>23</th>\n      <td>M1G</td>\n      <td>Scarborough</td>\n      <td>Woburn</td>\n    </tr>\n    <tr>\n      <th>24</th>\n      <td>M4G</td>\n      <td>EastYork</td>\n      <td>Leaside</td>\n    </tr>\n    <tr>\n      <th>25</th>\n      <td>M5G</td>\n      <td>DowntownToronto</td>\n      <td>CentralBayStreet</td>\n    </tr>\n    <tr>\n      <th>26</th>\n      <td>M6G</td>\n      <td>DowntownToronto</td>\n      <td>Christie</td>\n    </tr>\n    <tr>\n      <th>27</th>\n      <td>M1H</td>\n      <td>Scarborough</td>\n      <td>Cedarbrae</td>\n    </tr>\n    <tr>\n      <th>28</th>\n      <td>M2H</td>\n      <td>NorthYork</td>\n      <td>HillcrestVillage</td>\n    </tr>\n    <tr>\n      <th>29</th>\n      <td>M3H</td>\n      <td>NorthYork</td>\n      <td>BathurstManor,WilsonHeights,DownsviewNorth</td>\n    </tr>\n    <tr>\n      <th>...</th>\n      <td>...</td>\n      <td>...</td>\n      <td>...</td>\n    </tr>\n    <tr>\n      <th>78</th>\n      <td>M9R</td>\n      <td>Etobicoke</td>\n      <td>KingsviewVillage,St.Phillips,MartinGroveGarden...</td>\n    </tr>\n    <tr>\n      <th>79</th>\n      <td>M1S</td>\n      <td>Scarborough</td>\n      <td>Agincourt</td>\n    </tr>\n    <tr>\n      <th>80</th>\n      <td>M4S</td>\n      <td>CentralToronto</td>\n      <td>Davisville</td>\n    </tr>\n    <tr>\n      <th>81</th>\n      <td>M5S</td>\n      <td>DowntownToronto</td>\n      <td>UniversityofToronto,Harbord</td>\n    </tr>\n    <tr>\n      <th>82</th>\n      <td>M6S</td>\n      <td>WestToronto</td>\n      <td>Runnymede,Swansea</td>\n    </tr>\n    <tr>\n      <th>83</th>\n      <td>M1T</td>\n      <td>Scarborough</td>\n      <td>ClarksCorners,TamO'Shanter,Sullivan</td>\n    </tr>\n    <tr>\n      <th>84</th>\n      <td>M4T</td>\n      <td>CentralToronto</td>\n      <td>MoorePark,SummerhillEast</td>\n    </tr>\n    <tr>\n      <th>85</th>\n      <td>M5T</td>\n      <td>DowntownToronto</td>\n      <td>KensingtonMarket,Chinatown,GrangePark</td>\n    </tr>\n    <tr>\n      <th>86</th>\n      <td>M1V</td>\n      <td>Scarborough</td>\n      <td>Milliken,AgincourtNorth,SteelesEast,L'Amoreaux...</td>\n    </tr>\n    <tr>\n      <th>87</th>\n      <td>M4V</td>\n      <td>CentralToronto</td>\n      <td>SummerhillWest,Rathnelly,SouthHill,ForestHillS...</td>\n    </tr>\n    <tr>\n      <th>88</th>\n      <td>M5V</td>\n      <td>DowntownToronto</td>\n      <td>CNTower,KingandSpadina,RailwayLands,Harbourfro...</td>\n    </tr>\n    <tr>\n      <th>89</th>\n      <td>M8V</td>\n      <td>Etobicoke</td>\n      <td>NewToronto,MimicoSouth,HumberBayShores</td>\n    </tr>\n    <tr>\n      <th>90</th>\n      <td>M9V</td>\n      <td>Etobicoke</td>\n      <td>SouthSteeles,Silverstone,Humbergate,Jamestown,...</td>\n    </tr>\n    <tr>\n      <th>91</th>\n      <td>M1W</td>\n      <td>Scarborough</td>\n      <td>SteelesWest,L'AmoreauxWest</td>\n    </tr>\n    <tr>\n      <th>92</th>\n      <td>M4W</td>\n      <td>DowntownToronto</td>\n      <td>Rosedale</td>\n    </tr>\n    <tr>\n      <th>93</th>\n      <td>M5W</td>\n      <td>DowntownToronto</td>\n      <td>StnAPOBoxes</td>\n    </tr>\n    <tr>\n      <th>94</th>\n      <td>M8W</td>\n      <td>Etobicoke</td>\n      <td>Alderwood,LongBranch</td>\n    </tr>\n    <tr>\n      <th>95</th>\n      <td>M9W</td>\n      <td>Etobicoke</td>\n      <td>Northwest,WestHumber-Clairville</td>\n    </tr>\n    <tr>\n      <th>96</th>\n      <td>M1X</td>\n      <td>Scarborough</td>\n      <td>UpperRouge</td>\n    </tr>\n    <tr>\n      <th>97</th>\n      <td>M4X</td>\n      <td>DowntownToronto</td>\n      <td>St.JamesTown,Cabbagetown</td>\n    </tr>\n    <tr>\n      <th>98</th>\n      <td>M5X</td>\n      <td>DowntownToronto</td>\n      <td>FirstCanadianPlace,Undergroundcity</td>\n    </tr>\n    <tr>\n      <th>99</th>\n      <td>M8X</td>\n      <td>Etobicoke</td>\n      <td>TheKingsway,MontgomeryRoad,OldMillNorth</td>\n    </tr>\n    <tr>\n      <th>100</th>\n      <td>M4Y</td>\n      <td>DowntownToronto</td>\n      <td>ChurchandWellesley</td>\n    </tr>\n    <tr>\n      <th>101</th>\n      <td>M7Y</td>\n      <td>EastToronto</td>\n      <td>BusinessreplymailProcessingCentre,SouthCentral...</td>\n    </tr>\n    <tr>\n      <th>102</th>\n      <td>M8Y</td>\n      <td>Etobicoke</td>\n      <td>OldMillSouth,King'sMillPark,Sunnylea,HumberBay...</td>\n    </tr>\n    <tr>\n      <th>103</th>\n      <td>M8Z</td>\n      <td>Etobicoke</td>\n      <td>MimicoNW,TheQueenswayWest,SouthofBloor,Kingswa...</td>\n    </tr>\n    <tr>\n      <th>104</th>\n      <td></td>\n      <td></td>\n      <td>None</td>\n    </tr>\n    <tr>\n      <th>105</th>\n      <td>NLNSPENBQCONMBSKABBCNU/NTYTABCEGHJKLMNPRSTVXY</td>\n      <td>NL</td>\n      <td>NS,PE,NB,QC,ON,MB,SK,AB,BC,NU/NT,YT,A,B,C,E,G,...</td>\n    </tr>\n    <tr>\n      <th>106</th>\n      <td>NL</td>\n      <td>NS</td>\n      <td>PE,NB,QC,ON,MB,SK,AB,BC,NU/NT,YT</td>\n    </tr>\n    <tr>\n      <th>107</th>\n      <td>A</td>\n      <td>B</td>\n      <td>C,E,G,H,J,K,L,M,N,P,R,S,T,V,X,Y</td>\n    </tr>\n  </tbody>\n</table>\n<p>108 rows \u00d7 3 columns</p>\n</div>",
                        "text/plain": "                                                 0                1  \\\n0                                                              None   \n1                                              M3A        NorthYork   \n2                                              M4A        NorthYork   \n3                                              M5A  DowntownToronto   \n4                                              M6A        NorthYork   \n5                                              M7A  DowntownToronto   \n6                                              M9A        Etobicoke   \n7                                              M1B      Scarborough   \n8                                              M3B        NorthYork   \n9                                              M4B         EastYork   \n10                                             M5B  DowntownToronto   \n11                                             M6B        NorthYork   \n12                                             M9B        Etobicoke   \n13                                             M1C      Scarborough   \n14                                             M3C        NorthYork   \n15                                             M4C         EastYork   \n16                                             M5C  DowntownToronto   \n17                                             M6C             York   \n18                                             M9C        Etobicoke   \n19                                             M1E      Scarborough   \n20                                             M4E      EastToronto   \n21                                             M5E  DowntownToronto   \n22                                             M6E             York   \n23                                             M1G      Scarborough   \n24                                             M4G         EastYork   \n25                                             M5G  DowntownToronto   \n26                                             M6G  DowntownToronto   \n27                                             M1H      Scarborough   \n28                                             M2H        NorthYork   \n29                                             M3H        NorthYork   \n..                                             ...              ...   \n78                                             M9R        Etobicoke   \n79                                             M1S      Scarborough   \n80                                             M4S   CentralToronto   \n81                                             M5S  DowntownToronto   \n82                                             M6S      WestToronto   \n83                                             M1T      Scarborough   \n84                                             M4T   CentralToronto   \n85                                             M5T  DowntownToronto   \n86                                             M1V      Scarborough   \n87                                             M4V   CentralToronto   \n88                                             M5V  DowntownToronto   \n89                                             M8V        Etobicoke   \n90                                             M9V        Etobicoke   \n91                                             M1W      Scarborough   \n92                                             M4W  DowntownToronto   \n93                                             M5W  DowntownToronto   \n94                                             M8W        Etobicoke   \n95                                             M9W        Etobicoke   \n96                                             M1X      Scarborough   \n97                                             M4X  DowntownToronto   \n98                                             M5X  DowntownToronto   \n99                                             M8X        Etobicoke   \n100                                            M4Y  DowntownToronto   \n101                                            M7Y      EastToronto   \n102                                            M8Y        Etobicoke   \n103                                            M8Z        Etobicoke   \n104                                                                   \n105  NLNSPENBQCONMBSKABBCNU/NTYTABCEGHJKLMNPRSTVXY               NL   \n106                                             NL               NS   \n107                                              A                B   \n\n                                                     2  \n0                                                 None  \n1                                            Parkwoods  \n2                                      VictoriaVillage  \n3                              RegentPark,Harbourfront  \n4                        LawrenceManor,LawrenceHeights  \n5              Queen'sPark,OntarioProvincialGovernment  \n6                  IslingtonAvenue,HumberValleyVillage  \n7                                        Malvern,Rouge  \n8                                             DonMills  \n9                         ParkviewHill,WoodbineGardens  \n10                              GardenDistrict,Ryerson  \n11                                           Glencairn  \n12   WestDeanePark,PrincessGardens,MartinGrove,Isli...  \n13                   RougeHill,PortUnion,HighlandCreek  \n14                                            DonMills  \n15                                     WoodbineHeights  \n16                                        St.JamesTown  \n17                                  Humewood-Cedarvale  \n18   Eringate,BloordaleGardens,OldBurnhamthorpe,Mar...  \n19                      Guildwood,Morningside,WestHill  \n20                                          TheBeaches  \n21                                          BerczyPark  \n22                                 Caledonia-Fairbanks  \n23                                              Woburn  \n24                                             Leaside  \n25                                    CentralBayStreet  \n26                                            Christie  \n27                                           Cedarbrae  \n28                                    HillcrestVillage  \n29          BathurstManor,WilsonHeights,DownsviewNorth  \n..                                                 ...  \n78   KingsviewVillage,St.Phillips,MartinGroveGarden...  \n79                                           Agincourt  \n80                                          Davisville  \n81                         UniversityofToronto,Harbord  \n82                                   Runnymede,Swansea  \n83                 ClarksCorners,TamO'Shanter,Sullivan  \n84                            MoorePark,SummerhillEast  \n85               KensingtonMarket,Chinatown,GrangePark  \n86   Milliken,AgincourtNorth,SteelesEast,L'Amoreaux...  \n87   SummerhillWest,Rathnelly,SouthHill,ForestHillS...  \n88   CNTower,KingandSpadina,RailwayLands,Harbourfro...  \n89              NewToronto,MimicoSouth,HumberBayShores  \n90   SouthSteeles,Silverstone,Humbergate,Jamestown,...  \n91                          SteelesWest,L'AmoreauxWest  \n92                                            Rosedale  \n93                                         StnAPOBoxes  \n94                                Alderwood,LongBranch  \n95                     Northwest,WestHumber-Clairville  \n96                                          UpperRouge  \n97                            St.JamesTown,Cabbagetown  \n98                  FirstCanadianPlace,Undergroundcity  \n99             TheKingsway,MontgomeryRoad,OldMillNorth  \n100                                 ChurchandWellesley  \n101  BusinessreplymailProcessingCentre,SouthCentral...  \n102  OldMillSouth,King'sMillPark,Sunnylea,HumberBay...  \n103  MimicoNW,TheQueenswayWest,SouthofBloor,Kingswa...  \n104                                               None  \n105  NS,PE,NB,QC,ON,MB,SK,AB,BC,NU/NT,YT,A,B,C,E,G,...  \n106                   PE,NB,QC,ON,MB,SK,AB,BC,NU/NT,YT  \n107                    C,E,G,H,J,K,L,M,N,P,R,S,T,V,X,Y  \n\n[108 rows x 3 columns]"
                    },
                    "execution_count": 9,
                    "metadata": {},
                    "output_type": "execute_result"
                }
            ],
            "source": "df1=df[0].str.split(',',2,expand=True)\ndf1[0]=df1[0].str.strip('[]')\ndf1[1]=df1[1].str.strip('[]')\ndf1[2]=df1[2].str.strip('[]')\ndf1=df1[df1[1] != \"Notassigned\"]\ndf1=df1[df1[2] != \"Notassigned\"]\ndf1.reset_index(inplace=True,drop=True)\ndf1"
        },
        {
            "cell_type": "markdown",
            "metadata": {},
            "source": "#### Eliminating all unnecessary headers and trailers"
        },
        {
            "cell_type": "code",
            "execution_count": 10,
            "metadata": {},
            "outputs": [],
            "source": "df1=(df1[1:104])\ndf1.reset_index(inplace=True,drop=True)"
        },
        {
            "cell_type": "markdown",
            "metadata": {},
            "source": "#### setting column names for the dataframe"
        },
        {
            "cell_type": "code",
            "execution_count": 11,
            "metadata": {},
            "outputs": [],
            "source": "df1.columns=[\"PostalCode\",\"Borough\",\"Neighborhood\"]"
        },
        {
            "cell_type": "code",
            "execution_count": 12,
            "metadata": {},
            "outputs": [
                {
                    "data": {
                        "text/html": "<div>\n<style scoped>\n    .dataframe tbody tr th:only-of-type {\n        vertical-align: middle;\n    }\n\n    .dataframe tbody tr th {\n        vertical-align: top;\n    }\n\n    .dataframe thead th {\n        text-align: right;\n    }\n</style>\n<table border=\"1\" class=\"dataframe\">\n  <thead>\n    <tr style=\"text-align: right;\">\n      <th></th>\n      <th>PostalCode</th>\n      <th>Borough</th>\n      <th>Neighborhood</th>\n    </tr>\n  </thead>\n  <tbody>\n    <tr>\n      <th>0</th>\n      <td>M3A</td>\n      <td>NorthYork</td>\n      <td>Parkwoods</td>\n    </tr>\n    <tr>\n      <th>1</th>\n      <td>M4A</td>\n      <td>NorthYork</td>\n      <td>VictoriaVillage</td>\n    </tr>\n    <tr>\n      <th>2</th>\n      <td>M5A</td>\n      <td>DowntownToronto</td>\n      <td>RegentPark,Harbourfront</td>\n    </tr>\n    <tr>\n      <th>3</th>\n      <td>M6A</td>\n      <td>NorthYork</td>\n      <td>LawrenceManor,LawrenceHeights</td>\n    </tr>\n    <tr>\n      <th>4</th>\n      <td>M7A</td>\n      <td>DowntownToronto</td>\n      <td>Queen'sPark,OntarioProvincialGovernment</td>\n    </tr>\n    <tr>\n      <th>5</th>\n      <td>M9A</td>\n      <td>Etobicoke</td>\n      <td>IslingtonAvenue,HumberValleyVillage</td>\n    </tr>\n    <tr>\n      <th>6</th>\n      <td>M1B</td>\n      <td>Scarborough</td>\n      <td>Malvern,Rouge</td>\n    </tr>\n    <tr>\n      <th>7</th>\n      <td>M3B</td>\n      <td>NorthYork</td>\n      <td>DonMills</td>\n    </tr>\n    <tr>\n      <th>8</th>\n      <td>M4B</td>\n      <td>EastYork</td>\n      <td>ParkviewHill,WoodbineGardens</td>\n    </tr>\n    <tr>\n      <th>9</th>\n      <td>M5B</td>\n      <td>DowntownToronto</td>\n      <td>GardenDistrict,Ryerson</td>\n    </tr>\n    <tr>\n      <th>10</th>\n      <td>M6B</td>\n      <td>NorthYork</td>\n      <td>Glencairn</td>\n    </tr>\n    <tr>\n      <th>11</th>\n      <td>M9B</td>\n      <td>Etobicoke</td>\n      <td>WestDeanePark,PrincessGardens,MartinGrove,Isli...</td>\n    </tr>\n    <tr>\n      <th>12</th>\n      <td>M1C</td>\n      <td>Scarborough</td>\n      <td>RougeHill,PortUnion,HighlandCreek</td>\n    </tr>\n    <tr>\n      <th>13</th>\n      <td>M3C</td>\n      <td>NorthYork</td>\n      <td>DonMills</td>\n    </tr>\n    <tr>\n      <th>14</th>\n      <td>M4C</td>\n      <td>EastYork</td>\n      <td>WoodbineHeights</td>\n    </tr>\n    <tr>\n      <th>15</th>\n      <td>M5C</td>\n      <td>DowntownToronto</td>\n      <td>St.JamesTown</td>\n    </tr>\n    <tr>\n      <th>16</th>\n      <td>M6C</td>\n      <td>York</td>\n      <td>Humewood-Cedarvale</td>\n    </tr>\n    <tr>\n      <th>17</th>\n      <td>M9C</td>\n      <td>Etobicoke</td>\n      <td>Eringate,BloordaleGardens,OldBurnhamthorpe,Mar...</td>\n    </tr>\n    <tr>\n      <th>18</th>\n      <td>M1E</td>\n      <td>Scarborough</td>\n      <td>Guildwood,Morningside,WestHill</td>\n    </tr>\n    <tr>\n      <th>19</th>\n      <td>M4E</td>\n      <td>EastToronto</td>\n      <td>TheBeaches</td>\n    </tr>\n    <tr>\n      <th>20</th>\n      <td>M5E</td>\n      <td>DowntownToronto</td>\n      <td>BerczyPark</td>\n    </tr>\n    <tr>\n      <th>21</th>\n      <td>M6E</td>\n      <td>York</td>\n      <td>Caledonia-Fairbanks</td>\n    </tr>\n    <tr>\n      <th>22</th>\n      <td>M1G</td>\n      <td>Scarborough</td>\n      <td>Woburn</td>\n    </tr>\n    <tr>\n      <th>23</th>\n      <td>M4G</td>\n      <td>EastYork</td>\n      <td>Leaside</td>\n    </tr>\n    <tr>\n      <th>24</th>\n      <td>M5G</td>\n      <td>DowntownToronto</td>\n      <td>CentralBayStreet</td>\n    </tr>\n    <tr>\n      <th>25</th>\n      <td>M6G</td>\n      <td>DowntownToronto</td>\n      <td>Christie</td>\n    </tr>\n    <tr>\n      <th>26</th>\n      <td>M1H</td>\n      <td>Scarborough</td>\n      <td>Cedarbrae</td>\n    </tr>\n    <tr>\n      <th>27</th>\n      <td>M2H</td>\n      <td>NorthYork</td>\n      <td>HillcrestVillage</td>\n    </tr>\n    <tr>\n      <th>28</th>\n      <td>M3H</td>\n      <td>NorthYork</td>\n      <td>BathurstManor,WilsonHeights,DownsviewNorth</td>\n    </tr>\n    <tr>\n      <th>29</th>\n      <td>M4H</td>\n      <td>EastYork</td>\n      <td>ThorncliffePark</td>\n    </tr>\n    <tr>\n      <th>...</th>\n      <td>...</td>\n      <td>...</td>\n      <td>...</td>\n    </tr>\n    <tr>\n      <th>73</th>\n      <td>M4R</td>\n      <td>CentralToronto</td>\n      <td>NorthTorontoWest,LawrencePark</td>\n    </tr>\n    <tr>\n      <th>74</th>\n      <td>M5R</td>\n      <td>CentralToronto</td>\n      <td>TheAnnex,NorthMidtown,Yorkville</td>\n    </tr>\n    <tr>\n      <th>75</th>\n      <td>M6R</td>\n      <td>WestToronto</td>\n      <td>Parkdale,Roncesvalles</td>\n    </tr>\n    <tr>\n      <th>76</th>\n      <td>M7R</td>\n      <td>Mississauga</td>\n      <td>CanadaPostGatewayProcessingCentre</td>\n    </tr>\n    <tr>\n      <th>77</th>\n      <td>M9R</td>\n      <td>Etobicoke</td>\n      <td>KingsviewVillage,St.Phillips,MartinGroveGarden...</td>\n    </tr>\n    <tr>\n      <th>78</th>\n      <td>M1S</td>\n      <td>Scarborough</td>\n      <td>Agincourt</td>\n    </tr>\n    <tr>\n      <th>79</th>\n      <td>M4S</td>\n      <td>CentralToronto</td>\n      <td>Davisville</td>\n    </tr>\n    <tr>\n      <th>80</th>\n      <td>M5S</td>\n      <td>DowntownToronto</td>\n      <td>UniversityofToronto,Harbord</td>\n    </tr>\n    <tr>\n      <th>81</th>\n      <td>M6S</td>\n      <td>WestToronto</td>\n      <td>Runnymede,Swansea</td>\n    </tr>\n    <tr>\n      <th>82</th>\n      <td>M1T</td>\n      <td>Scarborough</td>\n      <td>ClarksCorners,TamO'Shanter,Sullivan</td>\n    </tr>\n    <tr>\n      <th>83</th>\n      <td>M4T</td>\n      <td>CentralToronto</td>\n      <td>MoorePark,SummerhillEast</td>\n    </tr>\n    <tr>\n      <th>84</th>\n      <td>M5T</td>\n      <td>DowntownToronto</td>\n      <td>KensingtonMarket,Chinatown,GrangePark</td>\n    </tr>\n    <tr>\n      <th>85</th>\n      <td>M1V</td>\n      <td>Scarborough</td>\n      <td>Milliken,AgincourtNorth,SteelesEast,L'Amoreaux...</td>\n    </tr>\n    <tr>\n      <th>86</th>\n      <td>M4V</td>\n      <td>CentralToronto</td>\n      <td>SummerhillWest,Rathnelly,SouthHill,ForestHillS...</td>\n    </tr>\n    <tr>\n      <th>87</th>\n      <td>M5V</td>\n      <td>DowntownToronto</td>\n      <td>CNTower,KingandSpadina,RailwayLands,Harbourfro...</td>\n    </tr>\n    <tr>\n      <th>88</th>\n      <td>M8V</td>\n      <td>Etobicoke</td>\n      <td>NewToronto,MimicoSouth,HumberBayShores</td>\n    </tr>\n    <tr>\n      <th>89</th>\n      <td>M9V</td>\n      <td>Etobicoke</td>\n      <td>SouthSteeles,Silverstone,Humbergate,Jamestown,...</td>\n    </tr>\n    <tr>\n      <th>90</th>\n      <td>M1W</td>\n      <td>Scarborough</td>\n      <td>SteelesWest,L'AmoreauxWest</td>\n    </tr>\n    <tr>\n      <th>91</th>\n      <td>M4W</td>\n      <td>DowntownToronto</td>\n      <td>Rosedale</td>\n    </tr>\n    <tr>\n      <th>92</th>\n      <td>M5W</td>\n      <td>DowntownToronto</td>\n      <td>StnAPOBoxes</td>\n    </tr>\n    <tr>\n      <th>93</th>\n      <td>M8W</td>\n      <td>Etobicoke</td>\n      <td>Alderwood,LongBranch</td>\n    </tr>\n    <tr>\n      <th>94</th>\n      <td>M9W</td>\n      <td>Etobicoke</td>\n      <td>Northwest,WestHumber-Clairville</td>\n    </tr>\n    <tr>\n      <th>95</th>\n      <td>M1X</td>\n      <td>Scarborough</td>\n      <td>UpperRouge</td>\n    </tr>\n    <tr>\n      <th>96</th>\n      <td>M4X</td>\n      <td>DowntownToronto</td>\n      <td>St.JamesTown,Cabbagetown</td>\n    </tr>\n    <tr>\n      <th>97</th>\n      <td>M5X</td>\n      <td>DowntownToronto</td>\n      <td>FirstCanadianPlace,Undergroundcity</td>\n    </tr>\n    <tr>\n      <th>98</th>\n      <td>M8X</td>\n      <td>Etobicoke</td>\n      <td>TheKingsway,MontgomeryRoad,OldMillNorth</td>\n    </tr>\n    <tr>\n      <th>99</th>\n      <td>M4Y</td>\n      <td>DowntownToronto</td>\n      <td>ChurchandWellesley</td>\n    </tr>\n    <tr>\n      <th>100</th>\n      <td>M7Y</td>\n      <td>EastToronto</td>\n      <td>BusinessreplymailProcessingCentre,SouthCentral...</td>\n    </tr>\n    <tr>\n      <th>101</th>\n      <td>M8Y</td>\n      <td>Etobicoke</td>\n      <td>OldMillSouth,King'sMillPark,Sunnylea,HumberBay...</td>\n    </tr>\n    <tr>\n      <th>102</th>\n      <td>M8Z</td>\n      <td>Etobicoke</td>\n      <td>MimicoNW,TheQueenswayWest,SouthofBloor,Kingswa...</td>\n    </tr>\n  </tbody>\n</table>\n<p>103 rows \u00d7 3 columns</p>\n</div>",
                        "text/plain": "    PostalCode          Borough  \\\n0          M3A        NorthYork   \n1          M4A        NorthYork   \n2          M5A  DowntownToronto   \n3          M6A        NorthYork   \n4          M7A  DowntownToronto   \n5          M9A        Etobicoke   \n6          M1B      Scarborough   \n7          M3B        NorthYork   \n8          M4B         EastYork   \n9          M5B  DowntownToronto   \n10         M6B        NorthYork   \n11         M9B        Etobicoke   \n12         M1C      Scarborough   \n13         M3C        NorthYork   \n14         M4C         EastYork   \n15         M5C  DowntownToronto   \n16         M6C             York   \n17         M9C        Etobicoke   \n18         M1E      Scarborough   \n19         M4E      EastToronto   \n20         M5E  DowntownToronto   \n21         M6E             York   \n22         M1G      Scarborough   \n23         M4G         EastYork   \n24         M5G  DowntownToronto   \n25         M6G  DowntownToronto   \n26         M1H      Scarborough   \n27         M2H        NorthYork   \n28         M3H        NorthYork   \n29         M4H         EastYork   \n..         ...              ...   \n73         M4R   CentralToronto   \n74         M5R   CentralToronto   \n75         M6R      WestToronto   \n76         M7R      Mississauga   \n77         M9R        Etobicoke   \n78         M1S      Scarborough   \n79         M4S   CentralToronto   \n80         M5S  DowntownToronto   \n81         M6S      WestToronto   \n82         M1T      Scarborough   \n83         M4T   CentralToronto   \n84         M5T  DowntownToronto   \n85         M1V      Scarborough   \n86         M4V   CentralToronto   \n87         M5V  DowntownToronto   \n88         M8V        Etobicoke   \n89         M9V        Etobicoke   \n90         M1W      Scarborough   \n91         M4W  DowntownToronto   \n92         M5W  DowntownToronto   \n93         M8W        Etobicoke   \n94         M9W        Etobicoke   \n95         M1X      Scarborough   \n96         M4X  DowntownToronto   \n97         M5X  DowntownToronto   \n98         M8X        Etobicoke   \n99         M4Y  DowntownToronto   \n100        M7Y      EastToronto   \n101        M8Y        Etobicoke   \n102        M8Z        Etobicoke   \n\n                                          Neighborhood  \n0                                            Parkwoods  \n1                                      VictoriaVillage  \n2                              RegentPark,Harbourfront  \n3                        LawrenceManor,LawrenceHeights  \n4              Queen'sPark,OntarioProvincialGovernment  \n5                  IslingtonAvenue,HumberValleyVillage  \n6                                        Malvern,Rouge  \n7                                             DonMills  \n8                         ParkviewHill,WoodbineGardens  \n9                               GardenDistrict,Ryerson  \n10                                           Glencairn  \n11   WestDeanePark,PrincessGardens,MartinGrove,Isli...  \n12                   RougeHill,PortUnion,HighlandCreek  \n13                                            DonMills  \n14                                     WoodbineHeights  \n15                                        St.JamesTown  \n16                                  Humewood-Cedarvale  \n17   Eringate,BloordaleGardens,OldBurnhamthorpe,Mar...  \n18                      Guildwood,Morningside,WestHill  \n19                                          TheBeaches  \n20                                          BerczyPark  \n21                                 Caledonia-Fairbanks  \n22                                              Woburn  \n23                                             Leaside  \n24                                    CentralBayStreet  \n25                                            Christie  \n26                                           Cedarbrae  \n27                                    HillcrestVillage  \n28          BathurstManor,WilsonHeights,DownsviewNorth  \n29                                     ThorncliffePark  \n..                                                 ...  \n73                       NorthTorontoWest,LawrencePark  \n74                     TheAnnex,NorthMidtown,Yorkville  \n75                               Parkdale,Roncesvalles  \n76                   CanadaPostGatewayProcessingCentre  \n77   KingsviewVillage,St.Phillips,MartinGroveGarden...  \n78                                           Agincourt  \n79                                          Davisville  \n80                         UniversityofToronto,Harbord  \n81                                   Runnymede,Swansea  \n82                 ClarksCorners,TamO'Shanter,Sullivan  \n83                            MoorePark,SummerhillEast  \n84               KensingtonMarket,Chinatown,GrangePark  \n85   Milliken,AgincourtNorth,SteelesEast,L'Amoreaux...  \n86   SummerhillWest,Rathnelly,SouthHill,ForestHillS...  \n87   CNTower,KingandSpadina,RailwayLands,Harbourfro...  \n88              NewToronto,MimicoSouth,HumberBayShores  \n89   SouthSteeles,Silverstone,Humbergate,Jamestown,...  \n90                          SteelesWest,L'AmoreauxWest  \n91                                            Rosedale  \n92                                         StnAPOBoxes  \n93                                Alderwood,LongBranch  \n94                     Northwest,WestHumber-Clairville  \n95                                          UpperRouge  \n96                            St.JamesTown,Cabbagetown  \n97                  FirstCanadianPlace,Undergroundcity  \n98             TheKingsway,MontgomeryRoad,OldMillNorth  \n99                                  ChurchandWellesley  \n100  BusinessreplymailProcessingCentre,SouthCentral...  \n101  OldMillSouth,King'sMillPark,Sunnylea,HumberBay...  \n102  MimicoNW,TheQueenswayWest,SouthofBloor,Kingswa...  \n\n[103 rows x 3 columns]"
                    },
                    "execution_count": 12,
                    "metadata": {},
                    "output_type": "execute_result"
                }
            ],
            "source": "df1"
        },
        {
            "cell_type": "code",
            "execution_count": 13,
            "metadata": {},
            "outputs": [
                {
                    "data": {
                        "text/plain": "(103, 3)"
                    },
                    "execution_count": 13,
                    "metadata": {},
                    "output_type": "execute_result"
                }
            ],
            "source": "df1.shape"
        },
        {
            "cell_type": "markdown",
            "metadata": {},
            "source": "#### Getting latitide longitudes for the each of Toronto postal code"
        },
        {
            "cell_type": "code",
            "execution_count": 14,
            "metadata": {},
            "outputs": [
                {
                    "data": {
                        "text/html": "<div>\n<style scoped>\n    .dataframe tbody tr th:only-of-type {\n        vertical-align: middle;\n    }\n\n    .dataframe tbody tr th {\n        vertical-align: top;\n    }\n\n    .dataframe thead th {\n        text-align: right;\n    }\n</style>\n<table border=\"1\" class=\"dataframe\">\n  <thead>\n    <tr style=\"text-align: right;\">\n      <th></th>\n      <th>Postal Code</th>\n      <th>Latitude</th>\n      <th>Longitude</th>\n    </tr>\n  </thead>\n  <tbody>\n    <tr>\n      <th>0</th>\n      <td>M1B</td>\n      <td>43.806686</td>\n      <td>-79.194353</td>\n    </tr>\n    <tr>\n      <th>1</th>\n      <td>M1C</td>\n      <td>43.784535</td>\n      <td>-79.160497</td>\n    </tr>\n    <tr>\n      <th>2</th>\n      <td>M1E</td>\n      <td>43.763573</td>\n      <td>-79.188711</td>\n    </tr>\n    <tr>\n      <th>3</th>\n      <td>M1G</td>\n      <td>43.770992</td>\n      <td>-79.216917</td>\n    </tr>\n    <tr>\n      <th>4</th>\n      <td>M1H</td>\n      <td>43.773136</td>\n      <td>-79.239476</td>\n    </tr>\n  </tbody>\n</table>\n</div>",
                        "text/plain": "  Postal Code   Latitude  Longitude\n0         M1B  43.806686 -79.194353\n1         M1C  43.784535 -79.160497\n2         M1E  43.763573 -79.188711\n3         M1G  43.770992 -79.216917\n4         M1H  43.773136 -79.239476"
                    },
                    "execution_count": 14,
                    "metadata": {},
                    "output_type": "execute_result"
                }
            ],
            "source": "# The code was removed by Watson Studio for sharing."
        },
        {
            "cell_type": "markdown",
            "metadata": {},
            "source": "#### Rename column \"Postal Code\" with \"PostalCode\" so as to perform join operation in te next step"
        },
        {
            "cell_type": "code",
            "execution_count": 15,
            "metadata": {},
            "outputs": [
                {
                    "data": {
                        "text/html": "<div>\n<style scoped>\n    .dataframe tbody tr th:only-of-type {\n        vertical-align: middle;\n    }\n\n    .dataframe tbody tr th {\n        vertical-align: top;\n    }\n\n    .dataframe thead th {\n        text-align: right;\n    }\n</style>\n<table border=\"1\" class=\"dataframe\">\n  <thead>\n    <tr style=\"text-align: right;\">\n      <th></th>\n      <th>PostalCode</th>\n      <th>Latitude</th>\n      <th>Longitude</th>\n    </tr>\n  </thead>\n  <tbody>\n    <tr>\n      <th>0</th>\n      <td>M1B</td>\n      <td>43.806686</td>\n      <td>-79.194353</td>\n    </tr>\n    <tr>\n      <th>1</th>\n      <td>M1C</td>\n      <td>43.784535</td>\n      <td>-79.160497</td>\n    </tr>\n    <tr>\n      <th>2</th>\n      <td>M1E</td>\n      <td>43.763573</td>\n      <td>-79.188711</td>\n    </tr>\n    <tr>\n      <th>3</th>\n      <td>M1G</td>\n      <td>43.770992</td>\n      <td>-79.216917</td>\n    </tr>\n    <tr>\n      <th>4</th>\n      <td>M1H</td>\n      <td>43.773136</td>\n      <td>-79.239476</td>\n    </tr>\n    <tr>\n      <th>5</th>\n      <td>M1J</td>\n      <td>43.744734</td>\n      <td>-79.239476</td>\n    </tr>\n    <tr>\n      <th>6</th>\n      <td>M1K</td>\n      <td>43.727929</td>\n      <td>-79.262029</td>\n    </tr>\n    <tr>\n      <th>7</th>\n      <td>M1L</td>\n      <td>43.711112</td>\n      <td>-79.284577</td>\n    </tr>\n    <tr>\n      <th>8</th>\n      <td>M1M</td>\n      <td>43.716316</td>\n      <td>-79.239476</td>\n    </tr>\n    <tr>\n      <th>9</th>\n      <td>M1N</td>\n      <td>43.692657</td>\n      <td>-79.264848</td>\n    </tr>\n    <tr>\n      <th>10</th>\n      <td>M1P</td>\n      <td>43.757410</td>\n      <td>-79.273304</td>\n    </tr>\n    <tr>\n      <th>11</th>\n      <td>M1R</td>\n      <td>43.750072</td>\n      <td>-79.295849</td>\n    </tr>\n    <tr>\n      <th>12</th>\n      <td>M1S</td>\n      <td>43.794200</td>\n      <td>-79.262029</td>\n    </tr>\n    <tr>\n      <th>13</th>\n      <td>M1T</td>\n      <td>43.781638</td>\n      <td>-79.304302</td>\n    </tr>\n    <tr>\n      <th>14</th>\n      <td>M1V</td>\n      <td>43.815252</td>\n      <td>-79.284577</td>\n    </tr>\n    <tr>\n      <th>15</th>\n      <td>M1W</td>\n      <td>43.799525</td>\n      <td>-79.318389</td>\n    </tr>\n    <tr>\n      <th>16</th>\n      <td>M1X</td>\n      <td>43.836125</td>\n      <td>-79.205636</td>\n    </tr>\n    <tr>\n      <th>17</th>\n      <td>M2H</td>\n      <td>43.803762</td>\n      <td>-79.363452</td>\n    </tr>\n    <tr>\n      <th>18</th>\n      <td>M2J</td>\n      <td>43.778517</td>\n      <td>-79.346556</td>\n    </tr>\n    <tr>\n      <th>19</th>\n      <td>M2K</td>\n      <td>43.786947</td>\n      <td>-79.385975</td>\n    </tr>\n    <tr>\n      <th>20</th>\n      <td>M2L</td>\n      <td>43.757490</td>\n      <td>-79.374714</td>\n    </tr>\n    <tr>\n      <th>21</th>\n      <td>M2M</td>\n      <td>43.789053</td>\n      <td>-79.408493</td>\n    </tr>\n    <tr>\n      <th>22</th>\n      <td>M2N</td>\n      <td>43.770120</td>\n      <td>-79.408493</td>\n    </tr>\n    <tr>\n      <th>23</th>\n      <td>M2P</td>\n      <td>43.752758</td>\n      <td>-79.400049</td>\n    </tr>\n    <tr>\n      <th>24</th>\n      <td>M2R</td>\n      <td>43.782736</td>\n      <td>-79.442259</td>\n    </tr>\n    <tr>\n      <th>25</th>\n      <td>M3A</td>\n      <td>43.753259</td>\n      <td>-79.329656</td>\n    </tr>\n    <tr>\n      <th>26</th>\n      <td>M3B</td>\n      <td>43.745906</td>\n      <td>-79.352188</td>\n    </tr>\n    <tr>\n      <th>27</th>\n      <td>M3C</td>\n      <td>43.725900</td>\n      <td>-79.340923</td>\n    </tr>\n    <tr>\n      <th>28</th>\n      <td>M3H</td>\n      <td>43.754328</td>\n      <td>-79.442259</td>\n    </tr>\n    <tr>\n      <th>29</th>\n      <td>M3J</td>\n      <td>43.767980</td>\n      <td>-79.487262</td>\n    </tr>\n    <tr>\n      <th>...</th>\n      <td>...</td>\n      <td>...</td>\n      <td>...</td>\n    </tr>\n    <tr>\n      <th>73</th>\n      <td>M6C</td>\n      <td>43.693781</td>\n      <td>-79.428191</td>\n    </tr>\n    <tr>\n      <th>74</th>\n      <td>M6E</td>\n      <td>43.689026</td>\n      <td>-79.453512</td>\n    </tr>\n    <tr>\n      <th>75</th>\n      <td>M6G</td>\n      <td>43.669542</td>\n      <td>-79.422564</td>\n    </tr>\n    <tr>\n      <th>76</th>\n      <td>M6H</td>\n      <td>43.669005</td>\n      <td>-79.442259</td>\n    </tr>\n    <tr>\n      <th>77</th>\n      <td>M6J</td>\n      <td>43.647927</td>\n      <td>-79.419750</td>\n    </tr>\n    <tr>\n      <th>78</th>\n      <td>M6K</td>\n      <td>43.636847</td>\n      <td>-79.428191</td>\n    </tr>\n    <tr>\n      <th>79</th>\n      <td>M6L</td>\n      <td>43.713756</td>\n      <td>-79.490074</td>\n    </tr>\n    <tr>\n      <th>80</th>\n      <td>M6M</td>\n      <td>43.691116</td>\n      <td>-79.476013</td>\n    </tr>\n    <tr>\n      <th>81</th>\n      <td>M6N</td>\n      <td>43.673185</td>\n      <td>-79.487262</td>\n    </tr>\n    <tr>\n      <th>82</th>\n      <td>M6P</td>\n      <td>43.661608</td>\n      <td>-79.464763</td>\n    </tr>\n    <tr>\n      <th>83</th>\n      <td>M6R</td>\n      <td>43.648960</td>\n      <td>-79.456325</td>\n    </tr>\n    <tr>\n      <th>84</th>\n      <td>M6S</td>\n      <td>43.651571</td>\n      <td>-79.484450</td>\n    </tr>\n    <tr>\n      <th>85</th>\n      <td>M7A</td>\n      <td>43.662301</td>\n      <td>-79.389494</td>\n    </tr>\n    <tr>\n      <th>86</th>\n      <td>M7R</td>\n      <td>43.636966</td>\n      <td>-79.615819</td>\n    </tr>\n    <tr>\n      <th>87</th>\n      <td>M7Y</td>\n      <td>43.662744</td>\n      <td>-79.321558</td>\n    </tr>\n    <tr>\n      <th>88</th>\n      <td>M8V</td>\n      <td>43.605647</td>\n      <td>-79.501321</td>\n    </tr>\n    <tr>\n      <th>89</th>\n      <td>M8W</td>\n      <td>43.602414</td>\n      <td>-79.543484</td>\n    </tr>\n    <tr>\n      <th>90</th>\n      <td>M8X</td>\n      <td>43.653654</td>\n      <td>-79.506944</td>\n    </tr>\n    <tr>\n      <th>91</th>\n      <td>M8Y</td>\n      <td>43.636258</td>\n      <td>-79.498509</td>\n    </tr>\n    <tr>\n      <th>92</th>\n      <td>M8Z</td>\n      <td>43.628841</td>\n      <td>-79.520999</td>\n    </tr>\n    <tr>\n      <th>93</th>\n      <td>M9A</td>\n      <td>43.667856</td>\n      <td>-79.532242</td>\n    </tr>\n    <tr>\n      <th>94</th>\n      <td>M9B</td>\n      <td>43.650943</td>\n      <td>-79.554724</td>\n    </tr>\n    <tr>\n      <th>95</th>\n      <td>M9C</td>\n      <td>43.643515</td>\n      <td>-79.577201</td>\n    </tr>\n    <tr>\n      <th>96</th>\n      <td>M9L</td>\n      <td>43.756303</td>\n      <td>-79.565963</td>\n    </tr>\n    <tr>\n      <th>97</th>\n      <td>M9M</td>\n      <td>43.724766</td>\n      <td>-79.532242</td>\n    </tr>\n    <tr>\n      <th>98</th>\n      <td>M9N</td>\n      <td>43.706876</td>\n      <td>-79.518188</td>\n    </tr>\n    <tr>\n      <th>99</th>\n      <td>M9P</td>\n      <td>43.696319</td>\n      <td>-79.532242</td>\n    </tr>\n    <tr>\n      <th>100</th>\n      <td>M9R</td>\n      <td>43.688905</td>\n      <td>-79.554724</td>\n    </tr>\n    <tr>\n      <th>101</th>\n      <td>M9V</td>\n      <td>43.739416</td>\n      <td>-79.588437</td>\n    </tr>\n    <tr>\n      <th>102</th>\n      <td>M9W</td>\n      <td>43.706748</td>\n      <td>-79.594054</td>\n    </tr>\n  </tbody>\n</table>\n<p>103 rows \u00d7 3 columns</p>\n</div>",
                        "text/plain": "    PostalCode   Latitude  Longitude\n0          M1B  43.806686 -79.194353\n1          M1C  43.784535 -79.160497\n2          M1E  43.763573 -79.188711\n3          M1G  43.770992 -79.216917\n4          M1H  43.773136 -79.239476\n5          M1J  43.744734 -79.239476\n6          M1K  43.727929 -79.262029\n7          M1L  43.711112 -79.284577\n8          M1M  43.716316 -79.239476\n9          M1N  43.692657 -79.264848\n10         M1P  43.757410 -79.273304\n11         M1R  43.750072 -79.295849\n12         M1S  43.794200 -79.262029\n13         M1T  43.781638 -79.304302\n14         M1V  43.815252 -79.284577\n15         M1W  43.799525 -79.318389\n16         M1X  43.836125 -79.205636\n17         M2H  43.803762 -79.363452\n18         M2J  43.778517 -79.346556\n19         M2K  43.786947 -79.385975\n20         M2L  43.757490 -79.374714\n21         M2M  43.789053 -79.408493\n22         M2N  43.770120 -79.408493\n23         M2P  43.752758 -79.400049\n24         M2R  43.782736 -79.442259\n25         M3A  43.753259 -79.329656\n26         M3B  43.745906 -79.352188\n27         M3C  43.725900 -79.340923\n28         M3H  43.754328 -79.442259\n29         M3J  43.767980 -79.487262\n..         ...        ...        ...\n73         M6C  43.693781 -79.428191\n74         M6E  43.689026 -79.453512\n75         M6G  43.669542 -79.422564\n76         M6H  43.669005 -79.442259\n77         M6J  43.647927 -79.419750\n78         M6K  43.636847 -79.428191\n79         M6L  43.713756 -79.490074\n80         M6M  43.691116 -79.476013\n81         M6N  43.673185 -79.487262\n82         M6P  43.661608 -79.464763\n83         M6R  43.648960 -79.456325\n84         M6S  43.651571 -79.484450\n85         M7A  43.662301 -79.389494\n86         M7R  43.636966 -79.615819\n87         M7Y  43.662744 -79.321558\n88         M8V  43.605647 -79.501321\n89         M8W  43.602414 -79.543484\n90         M8X  43.653654 -79.506944\n91         M8Y  43.636258 -79.498509\n92         M8Z  43.628841 -79.520999\n93         M9A  43.667856 -79.532242\n94         M9B  43.650943 -79.554724\n95         M9C  43.643515 -79.577201\n96         M9L  43.756303 -79.565963\n97         M9M  43.724766 -79.532242\n98         M9N  43.706876 -79.518188\n99         M9P  43.696319 -79.532242\n100        M9R  43.688905 -79.554724\n101        M9V  43.739416 -79.588437\n102        M9W  43.706748 -79.594054\n\n[103 rows x 3 columns]"
                    },
                    "execution_count": 15,
                    "metadata": {},
                    "output_type": "execute_result"
                }
            ],
            "source": "df_geo.rename(columns={\"Postal Code\":\"PostalCode\"},inplace=True)\ndf_geo"
        },
        {
            "cell_type": "code",
            "execution_count": 16,
            "metadata": {},
            "outputs": [
                {
                    "data": {
                        "text/html": "<div>\n<style scoped>\n    .dataframe tbody tr th:only-of-type {\n        vertical-align: middle;\n    }\n\n    .dataframe tbody tr th {\n        vertical-align: top;\n    }\n\n    .dataframe thead th {\n        text-align: right;\n    }\n</style>\n<table border=\"1\" class=\"dataframe\">\n  <thead>\n    <tr style=\"text-align: right;\">\n      <th></th>\n      <th>PostalCode</th>\n      <th>Borough</th>\n      <th>Neighborhood</th>\n    </tr>\n  </thead>\n  <tbody>\n    <tr>\n      <th>0</th>\n      <td>M3A</td>\n      <td>NorthYork</td>\n      <td>Parkwoods</td>\n    </tr>\n    <tr>\n      <th>1</th>\n      <td>M4A</td>\n      <td>NorthYork</td>\n      <td>VictoriaVillage</td>\n    </tr>\n    <tr>\n      <th>2</th>\n      <td>M5A</td>\n      <td>DowntownToronto</td>\n      <td>RegentPark,Harbourfront</td>\n    </tr>\n    <tr>\n      <th>3</th>\n      <td>M6A</td>\n      <td>NorthYork</td>\n      <td>LawrenceManor,LawrenceHeights</td>\n    </tr>\n    <tr>\n      <th>4</th>\n      <td>M7A</td>\n      <td>DowntownToronto</td>\n      <td>Queen'sPark,OntarioProvincialGovernment</td>\n    </tr>\n  </tbody>\n</table>\n</div>",
                        "text/plain": "  PostalCode          Borough                             Neighborhood\n0        M3A        NorthYork                                Parkwoods\n1        M4A        NorthYork                          VictoriaVillage\n2        M5A  DowntownToronto                  RegentPark,Harbourfront\n3        M6A        NorthYork            LawrenceManor,LawrenceHeights\n4        M7A  DowntownToronto  Queen'sPark,OntarioProvincialGovernment"
                    },
                    "execution_count": 16,
                    "metadata": {},
                    "output_type": "execute_result"
                }
            ],
            "source": "df1.head()"
        },
        {
            "cell_type": "markdown",
            "metadata": {},
            "source": "#### Peform join on df1 and df_geo on the key \"PostalCode"
        },
        {
            "cell_type": "code",
            "execution_count": 17,
            "metadata": {},
            "outputs": [
                {
                    "data": {
                        "text/html": "<div>\n<style scoped>\n    .dataframe tbody tr th:only-of-type {\n        vertical-align: middle;\n    }\n\n    .dataframe tbody tr th {\n        vertical-align: top;\n    }\n\n    .dataframe thead th {\n        text-align: right;\n    }\n</style>\n<table border=\"1\" class=\"dataframe\">\n  <thead>\n    <tr style=\"text-align: right;\">\n      <th></th>\n      <th>PostalCode</th>\n      <th>Borough</th>\n      <th>Neighborhood</th>\n      <th>Latitude</th>\n      <th>Longitude</th>\n    </tr>\n  </thead>\n  <tbody>\n    <tr>\n      <th>0</th>\n      <td>M3A</td>\n      <td>NorthYork</td>\n      <td>Parkwoods</td>\n      <td>43.753259</td>\n      <td>-79.329656</td>\n    </tr>\n    <tr>\n      <th>1</th>\n      <td>M4A</td>\n      <td>NorthYork</td>\n      <td>VictoriaVillage</td>\n      <td>43.725882</td>\n      <td>-79.315572</td>\n    </tr>\n    <tr>\n      <th>2</th>\n      <td>M5A</td>\n      <td>DowntownToronto</td>\n      <td>RegentPark,Harbourfront</td>\n      <td>43.654260</td>\n      <td>-79.360636</td>\n    </tr>\n    <tr>\n      <th>3</th>\n      <td>M6A</td>\n      <td>NorthYork</td>\n      <td>LawrenceManor,LawrenceHeights</td>\n      <td>43.718518</td>\n      <td>-79.464763</td>\n    </tr>\n    <tr>\n      <th>4</th>\n      <td>M7A</td>\n      <td>DowntownToronto</td>\n      <td>Queen'sPark,OntarioProvincialGovernment</td>\n      <td>43.662301</td>\n      <td>-79.389494</td>\n    </tr>\n    <tr>\n      <th>5</th>\n      <td>M9A</td>\n      <td>Etobicoke</td>\n      <td>IslingtonAvenue,HumberValleyVillage</td>\n      <td>43.667856</td>\n      <td>-79.532242</td>\n    </tr>\n    <tr>\n      <th>6</th>\n      <td>M1B</td>\n      <td>Scarborough</td>\n      <td>Malvern,Rouge</td>\n      <td>43.806686</td>\n      <td>-79.194353</td>\n    </tr>\n    <tr>\n      <th>7</th>\n      <td>M3B</td>\n      <td>NorthYork</td>\n      <td>DonMills</td>\n      <td>43.745906</td>\n      <td>-79.352188</td>\n    </tr>\n    <tr>\n      <th>8</th>\n      <td>M4B</td>\n      <td>EastYork</td>\n      <td>ParkviewHill,WoodbineGardens</td>\n      <td>43.706397</td>\n      <td>-79.309937</td>\n    </tr>\n    <tr>\n      <th>9</th>\n      <td>M5B</td>\n      <td>DowntownToronto</td>\n      <td>GardenDistrict,Ryerson</td>\n      <td>43.657162</td>\n      <td>-79.378937</td>\n    </tr>\n  </tbody>\n</table>\n</div>",
                        "text/plain": "  PostalCode          Borough                             Neighborhood  \\\n0        M3A        NorthYork                                Parkwoods   \n1        M4A        NorthYork                          VictoriaVillage   \n2        M5A  DowntownToronto                  RegentPark,Harbourfront   \n3        M6A        NorthYork            LawrenceManor,LawrenceHeights   \n4        M7A  DowntownToronto  Queen'sPark,OntarioProvincialGovernment   \n5        M9A        Etobicoke      IslingtonAvenue,HumberValleyVillage   \n6        M1B      Scarborough                            Malvern,Rouge   \n7        M3B        NorthYork                                 DonMills   \n8        M4B         EastYork             ParkviewHill,WoodbineGardens   \n9        M5B  DowntownToronto                   GardenDistrict,Ryerson   \n\n    Latitude  Longitude  \n0  43.753259 -79.329656  \n1  43.725882 -79.315572  \n2  43.654260 -79.360636  \n3  43.718518 -79.464763  \n4  43.662301 -79.389494  \n5  43.667856 -79.532242  \n6  43.806686 -79.194353  \n7  43.745906 -79.352188  \n8  43.706397 -79.309937  \n9  43.657162 -79.378937  "
                    },
                    "execution_count": 17,
                    "metadata": {},
                    "output_type": "execute_result"
                }
            ],
            "source": "df2=pd.merge(df1,df_geo,how='inner', on='PostalCode')\ndf2.head(n=10)"
        },
        {
            "cell_type": "code",
            "execution_count": 18,
            "metadata": {},
            "outputs": [
                {
                    "data": {
                        "text/plain": "(103, 5)"
                    },
                    "execution_count": 18,
                    "metadata": {},
                    "output_type": "execute_result"
                }
            ],
            "source": "df2.shape"
        },
        {
            "cell_type": "code",
            "execution_count": null,
            "metadata": {},
            "outputs": [],
            "source": ""
        }
    ],
    "metadata": {
        "kernelspec": {
            "display_name": "Python 3.6",
            "language": "python",
            "name": "python3"
        },
        "language_info": {
            "codemirror_mode": {
                "name": "ipython",
                "version": 3
            },
            "file_extension": ".py",
            "mimetype": "text/x-python",
            "name": "python",
            "nbconvert_exporter": "python",
            "pygments_lexer": "ipython3",
            "version": "3.6.9"
        }
    },
    "nbformat": 4,
    "nbformat_minor": 1
}