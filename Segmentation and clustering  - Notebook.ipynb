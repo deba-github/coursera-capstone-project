{
    "cells": [
        {
            "cell_type": "markdown",
            "metadata": {
                "collapsed": true
            },
            "source": "### As a part of segmentation and clustering neighborhoods in the city of Toronto, Canada,  this notebook is to code the scraping the following Wikipedia page, https://en.wikipedia.org/wiki/List_of_postal_codes_of_Canada:_M, in order to obtain the data that is in the table of postal codes and to transform the data into a pandas dataframe"
        },
        {
            "cell_type": "markdown",
            "metadata": {},
            "source": "#### Importing all the libraries"
        },
        {
            "cell_type": "code",
            "execution_count": 112,
            "metadata": {},
            "outputs": [],
            "source": "import pandas as pd\nimport numpy as np\nimport matplotlib.pyplot as plt\nimport seaborn as sns\n%matplotlib inline"
        },
        {
            "cell_type": "markdown",
            "metadata": {},
            "source": "#### We will be using BeautifulSoup library for web scraping"
        },
        {
            "cell_type": "code",
            "execution_count": 113,
            "metadata": {},
            "outputs": [],
            "source": "from urllib.request import urlopen\nfrom bs4 import BeautifulSoup"
        },
        {
            "cell_type": "markdown",
            "metadata": {},
            "source": "#### We will get the postal codes of Toronto from this wiki page"
        },
        {
            "cell_type": "code",
            "execution_count": 114,
            "metadata": {},
            "outputs": [],
            "source": "url=\"https://en.wikipedia.org/wiki/List_of_postal_codes_of_Canada:_M\"\nhtml=urlopen(url)"
        },
        {
            "cell_type": "markdown",
            "metadata": {},
            "source": "#### create a Beautiful Soup object"
        },
        {
            "cell_type": "code",
            "execution_count": 115,
            "metadata": {},
            "outputs": [
                {
                    "data": {
                        "text/plain": "bs4.BeautifulSoup"
                    },
                    "execution_count": 115,
                    "metadata": {},
                    "output_type": "execute_result"
                }
            ],
            "source": "soup=BeautifulSoup(html,'lxml')\ntype(soup)"
        },
        {
            "cell_type": "markdown",
            "metadata": {},
            "source": "#### Using find_all() method of soup to extract tablerows tags within a webpage"
        },
        {
            "cell_type": "code",
            "execution_count": 116,
            "metadata": {},
            "outputs": [
                {
                    "data": {
                        "text/plain": "[<tr>\n <th>Postal Code\n </th>\n <th>Borough\n </th>\n <th>Neighborhood\n </th></tr>, <tr>\n <td>M1A\n </td>\n <td>Not assigned\n </td>\n <td>Not assigned\n </td></tr>, <tr>\n <td>M2A\n </td>\n <td>Not assigned\n </td>\n <td>Not assigned\n </td></tr>, <tr>\n <td>M3A\n </td>\n <td>North York\n </td>\n <td>Parkwoods\n </td></tr>, <tr>\n <td>M4A\n </td>\n <td>North York\n </td>\n <td>Victoria Village\n </td></tr>]"
                    },
                    "execution_count": 116,
                    "metadata": {},
                    "output_type": "execute_result"
                }
            ],
            "source": "rows=soup.find_all('tr')\nrows[:5]"
        },
        {
            "cell_type": "markdown",
            "metadata": {},
            "source": "#### Using regular expressions that finds all the characters inside the td html tags and replace them with an empty string for each table row and reformtting as needed"
        },
        {
            "cell_type": "code",
            "execution_count": 117,
            "metadata": {},
            "outputs": [
                {
                    "name": "stdout",
                    "output_type": "stream",
                    "text": "['[]', '[M1A,Notassigned,Notassigned]', '[M2A,Notassigned,Notassigned]', '[M3A,NorthYork,Parkwoods]', '[M4A,NorthYork,VictoriaVillage]', '[M5A,DowntownToronto,RegentPark,Harbourfront]', '[M6A,NorthYork,LawrenceManor,LawrenceHeights]', \"[M7A,DowntownToronto,Queen'sPark,OntarioProvincialGovernment]\", '[M8A,Notassigned,Notassigned]', '[M9A,Etobicoke,IslingtonAvenue,HumberValleyVillage]', '[M1B,Scarborough,Malvern,Rouge]', '[M2B,Notassigned,Notassigned]', '[M3B,NorthYork,DonMills]', '[M4B,EastYork,ParkviewHill,WoodbineGardens]', '[M5B,DowntownToronto,GardenDistrict,Ryerson]', '[M6B,NorthYork,Glencairn]', '[M7B,Notassigned,Notassigned]', '[M8B,Notassigned,Notassigned]', '[M9B,Etobicoke,WestDeanePark,PrincessGardens,MartinGrove,Islington,Cloverdale]', '[M1C,Scarborough,RougeHill,PortUnion,HighlandCreek]', '[M2C,Notassigned,Notassigned]', '[M3C,NorthYork,DonMills]', '[M4C,EastYork,WoodbineHeights]', '[M5C,DowntownToronto,St.JamesTown]', '[M6C,York,Humewood-Cedarvale]', '[M7C,Notassigned,Notassigned]', '[M8C,Notassigned,Notassigned]', '[M9C,Etobicoke,Eringate,BloordaleGardens,OldBurnhamthorpe,MarklandWood]', '[M1E,Scarborough,Guildwood,Morningside,WestHill]', '[M2E,Notassigned,Notassigned]', '[M3E,Notassigned,Notassigned]', '[M4E,EastToronto,TheBeaches]', '[M5E,DowntownToronto,BerczyPark]', '[M6E,York,Caledonia-Fairbanks]', '[M7E,Notassigned,Notassigned]', '[M8E,Notassigned,Notassigned]', '[M9E,Notassigned,Notassigned]', '[M1G,Scarborough,Woburn]', '[M2G,Notassigned,Notassigned]', '[M3G,Notassigned,Notassigned]', '[M4G,EastYork,Leaside]', '[M5G,DowntownToronto,CentralBayStreet]', '[M6G,DowntownToronto,Christie]', '[M7G,Notassigned,Notassigned]', '[M8G,Notassigned,Notassigned]', '[M9G,Notassigned,Notassigned]', '[M1H,Scarborough,Cedarbrae]', '[M2H,NorthYork,HillcrestVillage]', '[M3H,NorthYork,BathurstManor,WilsonHeights,DownsviewNorth]', '[M4H,EastYork,ThorncliffePark]', '[M5H,DowntownToronto,Richmond,Adelaide,King]', '[M6H,WestToronto,Dufferin,DovercourtVillage]', '[M7H,Notassigned,Notassigned]', '[M8H,Notassigned,Notassigned]', '[M9H,Notassigned,Notassigned]', '[M1J,Scarborough,ScarboroughVillage]', '[M2J,NorthYork,Fairview,HenryFarm,Oriole]', '[M3J,NorthYork,NorthwoodPark,YorkUniversity]', '[M4J,EastYork,EastToronto,BroadviewNorth(OldEastYork)]', '[M5J,DowntownToronto,HarbourfrontEast,UnionStation,TorontoIslands]', '[M6J,WestToronto,LittlePortugal,Trinity]', '[M7J,Notassigned,Notassigned]', '[M8J,Notassigned,Notassigned]', '[M9J,Notassigned,Notassigned]', '[M1K,Scarborough,KennedyPark,Ionview,EastBirchmountPark]', '[M2K,NorthYork,BayviewVillage]', '[M3K,NorthYork,Downsview]', '[M4K,EastToronto,TheDanforthWest,Riverdale]', '[M5K,DowntownToronto,TorontoDominionCentre,DesignExchange]', '[M6K,WestToronto,Brockton,ParkdaleVillage,ExhibitionPlace]', '[M7K,Notassigned,Notassigned]', '[M8K,Notassigned,Notassigned]', '[M9K,Notassigned,Notassigned]', '[M1L,Scarborough,GoldenMile,Clairlea,Oakridge]', '[M2L,NorthYork,YorkMills,SilverHills]', '[M3L,NorthYork,Downsview]', '[M4L,EastToronto,IndiaBazaar,TheBeachesWest]', '[M5L,DowntownToronto,CommerceCourt,VictoriaHotel]', '[M6L,NorthYork,NorthPark,MapleLeafPark,UpwoodPark]', '[M7L,Notassigned,Notassigned]', '[M8L,Notassigned,Notassigned]', '[M9L,NorthYork,HumberSummit]', '[M1M,Scarborough,Cliffside,Cliffcrest,ScarboroughVillageWest]', '[M2M,NorthYork,Willowdale,Newtonbrook]', '[M3M,NorthYork,Downsview]', '[M4M,EastToronto,StudioDistrict]', '[M5M,NorthYork,BedfordPark,LawrenceManorEast]', '[M6M,York,DelRay,MountDennis,KeelsdaleandSilverthorn]', '[M7M,Notassigned,Notassigned]', '[M8M,Notassigned,Notassigned]', '[M9M,NorthYork,Humberlea,Emery]', '[M1N,Scarborough,BirchCliff,CliffsideWest]', '[M2N,NorthYork,Willowdale,WillowdaleEast]', '[M3N,NorthYork,Downsview]', '[M4N,CentralToronto,LawrencePark]', '[M5N,CentralToronto,Roselawn]', '[M6N,York,Runnymede,TheJunctionNorth]', '[M7N,Notassigned,Notassigned]', '[M8N,Notassigned,Notassigned]', '[M9N,York,Weston]', '[M1P,Scarborough,DorsetPark,WexfordHeights,ScarboroughTownCentre]', '[M2P,NorthYork,YorkMillsWest]', '[M3P,Notassigned,Notassigned]', '[M4P,CentralToronto,DavisvilleNorth]', '[M5P,CentralToronto,ForestHillNorth&amp;West,ForestHillRoadPark]', '[M6P,WestToronto,HighPark,TheJunctionSouth]', '[M7P,Notassigned,Notassigned]', '[M8P,Notassigned,Notassigned]', '[M9P,Etobicoke,Westmount]', '[M1R,Scarborough,Wexford,Maryvale]', '[M2R,NorthYork,Willowdale,WillowdaleWest]', '[M3R,Notassigned,Notassigned]', '[M4R,CentralToronto,NorthTorontoWest,LawrencePark]', '[M5R,CentralToronto,TheAnnex,NorthMidtown,Yorkville]', '[M6R,WestToronto,Parkdale,Roncesvalles]', '[M7R,Mississauga,CanadaPostGatewayProcessingCentre]', '[M8R,Notassigned,Notassigned]', '[M9R,Etobicoke,KingsviewVillage,St.Phillips,MartinGroveGardens,RichviewGardens]', '[M1S,Scarborough,Agincourt]', '[M2S,Notassigned,Notassigned]', '[M3S,Notassigned,Notassigned]', '[M4S,CentralToronto,Davisville]', '[M5S,DowntownToronto,UniversityofToronto,Harbord]', '[M6S,WestToronto,Runnymede,Swansea]', '[M7S,Notassigned,Notassigned]', '[M8S,Notassigned,Notassigned]', '[M9S,Notassigned,Notassigned]', \"[M1T,Scarborough,ClarksCorners,TamO'Shanter,Sullivan]\", '[M2T,Notassigned,Notassigned]', '[M3T,Notassigned,Notassigned]', '[M4T,CentralToronto,MoorePark,SummerhillEast]', '[M5T,DowntownToronto,KensingtonMarket,Chinatown,GrangePark]', '[M6T,Notassigned,Notassigned]', '[M7T,Notassigned,Notassigned]', '[M8T,Notassigned,Notassigned]', '[M9T,Notassigned,Notassigned]', \"[M1V,Scarborough,Milliken,AgincourtNorth,SteelesEast,L'AmoreauxEast]\", '[M2V,Notassigned,Notassigned]', '[M3V,Notassigned,Notassigned]', '[M4V,CentralToronto,SummerhillWest,Rathnelly,SouthHill,ForestHillSE,DeerPark]', '[M5V,DowntownToronto,CNTower,KingandSpadina,RailwayLands,HarbourfrontWest,BathurstQuay,SouthNiagara,Islandairport]', '[M6V,Notassigned,Notassigned]', '[M7V,Notassigned,Notassigned]', '[M8V,Etobicoke,NewToronto,MimicoSouth,HumberBayShores]', '[M9V,Etobicoke,SouthSteeles,Silverstone,Humbergate,Jamestown,MountOlive,BeaumondHeights,Thistletown,AlbionGardens]', \"[M1W,Scarborough,SteelesWest,L'AmoreauxWest]\", '[M2W,Notassigned,Notassigned]', '[M3W,Notassigned,Notassigned]', '[M4W,DowntownToronto,Rosedale]', '[M5W,DowntownToronto,StnAPOBoxes]', '[M6W,Notassigned,Notassigned]', '[M7W,Notassigned,Notassigned]', '[M8W,Etobicoke,Alderwood,LongBranch]', '[M9W,Etobicoke,Northwest,WestHumber-Clairville]', '[M1X,Scarborough,UpperRouge]', '[M2X,Notassigned,Notassigned]', '[M3X,Notassigned,Notassigned]', '[M4X,DowntownToronto,St.JamesTown,Cabbagetown]', '[M5X,DowntownToronto,FirstCanadianPlace,Undergroundcity]', '[M6X,Notassigned,Notassigned]', '[M7X,Notassigned,Notassigned]', '[M8X,Etobicoke,TheKingsway,MontgomeryRoad,OldMillNorth]', '[M9X,Notassigned,Notassigned]', '[M1Y,Notassigned,Notassigned]', '[M2Y,Notassigned,Notassigned]', '[M3Y,Notassigned,Notassigned]', '[M4Y,DowntownToronto,ChurchandWellesley]', '[M5Y,Notassigned,Notassigned]', '[M6Y,Notassigned,Notassigned]', '[M7Y,EastToronto,BusinessreplymailProcessingCentre,SouthCentralLetterProcessingPlantToronto]', \"[M8Y,Etobicoke,OldMillSouth,King'sMillPark,Sunnylea,HumberBay,MimicoNE,TheQueenswayEast,RoyalYorkSouthEast,KingswayParkSouthEast]\", '[M9Y,Notassigned,Notassigned]', '[M1Z,Notassigned,Notassigned]', '[M2Z,Notassigned,Notassigned]', '[M3Z,Notassigned,Notassigned]', '[M4Z,Notassigned,Notassigned]', '[M5Z,Notassigned,Notassigned]', '[M6Z,Notassigned,Notassigned]', '[M7Z,Notassigned,Notassigned]', '[M8Z,Etobicoke,MimicoNW,TheQueenswayWest,SouthofBloor,KingswayParkSouthWest,RoyalYorkSouthWest]', '[M9Z,Notassigned,Notassigned]', '[,]', '[NLNSPENBQCONMBSKABBCNU/NTYTABCEGHJKLMNPRSTVXY,NL,NS,PE,NB,QC,ON,MB,SK,AB,BC,NU/NT,YT,A,B,C,E,G,H,J,K,L,M,N,P,R,S,T,V,X,Y]', '[NL,NS,PE,NB,QC,ON,MB,SK,AB,BC,NU/NT,YT]', '[A,B,C,E,G,H,J,K,L,M,N,P,R,S,T,V,X,Y]']\n"
                },
                {
                    "data": {
                        "text/plain": "list"
                    },
                    "execution_count": 117,
                    "metadata": {},
                    "output_type": "execute_result"
                }
            ],
            "source": "import re\nlist_rows = []\nfor row in rows:\n    cells = row.find_all('td')\n    str_cells = str(cells)\n    clean = re.compile('<.*?>')\n    clean2 = (re.sub(clean, '',str_cells))\n    clean3 = re.sub(\"\\s\", \"\", clean2)\n    list_rows.append(clean3)\nprint(list_rows)\ntype(list_rows)"
        },
        {
            "cell_type": "markdown",
            "metadata": {},
            "source": "#### Storing the list in dataframe"
        },
        {
            "cell_type": "code",
            "execution_count": 118,
            "metadata": {},
            "outputs": [],
            "source": "df=pd.DataFrame(list_rows)"
        },
        {
            "cell_type": "code",
            "execution_count": 119,
            "metadata": {},
            "outputs": [
                {
                    "data": {
                        "text/html": "<div>\n<style scoped>\n    .dataframe tbody tr th:only-of-type {\n        vertical-align: middle;\n    }\n\n    .dataframe tbody tr th {\n        vertical-align: top;\n    }\n\n    .dataframe thead th {\n        text-align: right;\n    }\n</style>\n<table border=\"1\" class=\"dataframe\">\n  <thead>\n    <tr style=\"text-align: right;\">\n      <th></th>\n      <th>0</th>\n    </tr>\n  </thead>\n  <tbody>\n    <tr>\n      <th>0</th>\n      <td>[]</td>\n    </tr>\n    <tr>\n      <th>1</th>\n      <td>[M1A,Notassigned,Notassigned]</td>\n    </tr>\n    <tr>\n      <th>2</th>\n      <td>[M2A,Notassigned,Notassigned]</td>\n    </tr>\n    <tr>\n      <th>3</th>\n      <td>[M3A,NorthYork,Parkwoods]</td>\n    </tr>\n    <tr>\n      <th>4</th>\n      <td>[M4A,NorthYork,VictoriaVillage]</td>\n    </tr>\n  </tbody>\n</table>\n</div>",
                        "text/plain": "                                 0\n0                               []\n1    [M1A,Notassigned,Notassigned]\n2    [M2A,Notassigned,Notassigned]\n3        [M3A,NorthYork,Parkwoods]\n4  [M4A,NorthYork,VictoriaVillage]"
                    },
                    "execution_count": 119,
                    "metadata": {},
                    "output_type": "execute_result"
                }
            ],
            "source": "df.head()"
        },
        {
            "cell_type": "markdown",
            "metadata": {},
            "source": "#### Splitting each row on ',' so as to put them in seperate cols and also replacing ' [ ',  ' ] ' with space. And also getting rid of all rows having string 'Notassigned'"
        },
        {
            "cell_type": "code",
            "execution_count": 120,
            "metadata": {},
            "outputs": [
                {
                    "data": {
                        "text/html": "<div>\n<style scoped>\n    .dataframe tbody tr th:only-of-type {\n        vertical-align: middle;\n    }\n\n    .dataframe tbody tr th {\n        vertical-align: top;\n    }\n\n    .dataframe thead th {\n        text-align: right;\n    }\n</style>\n<table border=\"1\" class=\"dataframe\">\n  <thead>\n    <tr style=\"text-align: right;\">\n      <th></th>\n      <th>0</th>\n      <th>1</th>\n      <th>2</th>\n    </tr>\n  </thead>\n  <tbody>\n    <tr>\n      <th>0</th>\n      <td></td>\n      <td>None</td>\n      <td>None</td>\n    </tr>\n    <tr>\n      <th>1</th>\n      <td>M3A</td>\n      <td>NorthYork</td>\n      <td>Parkwoods</td>\n    </tr>\n    <tr>\n      <th>2</th>\n      <td>M4A</td>\n      <td>NorthYork</td>\n      <td>VictoriaVillage</td>\n    </tr>\n    <tr>\n      <th>3</th>\n      <td>M5A</td>\n      <td>DowntownToronto</td>\n      <td>RegentPark,Harbourfront</td>\n    </tr>\n    <tr>\n      <th>4</th>\n      <td>M6A</td>\n      <td>NorthYork</td>\n      <td>LawrenceManor,LawrenceHeights</td>\n    </tr>\n    <tr>\n      <th>5</th>\n      <td>M7A</td>\n      <td>DowntownToronto</td>\n      <td>Queen'sPark,OntarioProvincialGovernment</td>\n    </tr>\n    <tr>\n      <th>6</th>\n      <td>M9A</td>\n      <td>Etobicoke</td>\n      <td>IslingtonAvenue,HumberValleyVillage</td>\n    </tr>\n    <tr>\n      <th>7</th>\n      <td>M1B</td>\n      <td>Scarborough</td>\n      <td>Malvern,Rouge</td>\n    </tr>\n    <tr>\n      <th>8</th>\n      <td>M3B</td>\n      <td>NorthYork</td>\n      <td>DonMills</td>\n    </tr>\n    <tr>\n      <th>9</th>\n      <td>M4B</td>\n      <td>EastYork</td>\n      <td>ParkviewHill,WoodbineGardens</td>\n    </tr>\n    <tr>\n      <th>10</th>\n      <td>M5B</td>\n      <td>DowntownToronto</td>\n      <td>GardenDistrict,Ryerson</td>\n    </tr>\n    <tr>\n      <th>11</th>\n      <td>M6B</td>\n      <td>NorthYork</td>\n      <td>Glencairn</td>\n    </tr>\n    <tr>\n      <th>12</th>\n      <td>M9B</td>\n      <td>Etobicoke</td>\n      <td>WestDeanePark,PrincessGardens,MartinGrove,Isli...</td>\n    </tr>\n    <tr>\n      <th>13</th>\n      <td>M1C</td>\n      <td>Scarborough</td>\n      <td>RougeHill,PortUnion,HighlandCreek</td>\n    </tr>\n    <tr>\n      <th>14</th>\n      <td>M3C</td>\n      <td>NorthYork</td>\n      <td>DonMills</td>\n    </tr>\n    <tr>\n      <th>15</th>\n      <td>M4C</td>\n      <td>EastYork</td>\n      <td>WoodbineHeights</td>\n    </tr>\n    <tr>\n      <th>16</th>\n      <td>M5C</td>\n      <td>DowntownToronto</td>\n      <td>St.JamesTown</td>\n    </tr>\n    <tr>\n      <th>17</th>\n      <td>M6C</td>\n      <td>York</td>\n      <td>Humewood-Cedarvale</td>\n    </tr>\n    <tr>\n      <th>18</th>\n      <td>M9C</td>\n      <td>Etobicoke</td>\n      <td>Eringate,BloordaleGardens,OldBurnhamthorpe,Mar...</td>\n    </tr>\n    <tr>\n      <th>19</th>\n      <td>M1E</td>\n      <td>Scarborough</td>\n      <td>Guildwood,Morningside,WestHill</td>\n    </tr>\n    <tr>\n      <th>20</th>\n      <td>M4E</td>\n      <td>EastToronto</td>\n      <td>TheBeaches</td>\n    </tr>\n    <tr>\n      <th>21</th>\n      <td>M5E</td>\n      <td>DowntownToronto</td>\n      <td>BerczyPark</td>\n    </tr>\n    <tr>\n      <th>22</th>\n      <td>M6E</td>\n      <td>York</td>\n      <td>Caledonia-Fairbanks</td>\n    </tr>\n    <tr>\n      <th>23</th>\n      <td>M1G</td>\n      <td>Scarborough</td>\n      <td>Woburn</td>\n    </tr>\n    <tr>\n      <th>24</th>\n      <td>M4G</td>\n      <td>EastYork</td>\n      <td>Leaside</td>\n    </tr>\n    <tr>\n      <th>25</th>\n      <td>M5G</td>\n      <td>DowntownToronto</td>\n      <td>CentralBayStreet</td>\n    </tr>\n    <tr>\n      <th>26</th>\n      <td>M6G</td>\n      <td>DowntownToronto</td>\n      <td>Christie</td>\n    </tr>\n    <tr>\n      <th>27</th>\n      <td>M1H</td>\n      <td>Scarborough</td>\n      <td>Cedarbrae</td>\n    </tr>\n    <tr>\n      <th>28</th>\n      <td>M2H</td>\n      <td>NorthYork</td>\n      <td>HillcrestVillage</td>\n    </tr>\n    <tr>\n      <th>29</th>\n      <td>M3H</td>\n      <td>NorthYork</td>\n      <td>BathurstManor,WilsonHeights,DownsviewNorth</td>\n    </tr>\n    <tr>\n      <th>...</th>\n      <td>...</td>\n      <td>...</td>\n      <td>...</td>\n    </tr>\n    <tr>\n      <th>78</th>\n      <td>M9R</td>\n      <td>Etobicoke</td>\n      <td>KingsviewVillage,St.Phillips,MartinGroveGarden...</td>\n    </tr>\n    <tr>\n      <th>79</th>\n      <td>M1S</td>\n      <td>Scarborough</td>\n      <td>Agincourt</td>\n    </tr>\n    <tr>\n      <th>80</th>\n      <td>M4S</td>\n      <td>CentralToronto</td>\n      <td>Davisville</td>\n    </tr>\n    <tr>\n      <th>81</th>\n      <td>M5S</td>\n      <td>DowntownToronto</td>\n      <td>UniversityofToronto,Harbord</td>\n    </tr>\n    <tr>\n      <th>82</th>\n      <td>M6S</td>\n      <td>WestToronto</td>\n      <td>Runnymede,Swansea</td>\n    </tr>\n    <tr>\n      <th>83</th>\n      <td>M1T</td>\n      <td>Scarborough</td>\n      <td>ClarksCorners,TamO'Shanter,Sullivan</td>\n    </tr>\n    <tr>\n      <th>84</th>\n      <td>M4T</td>\n      <td>CentralToronto</td>\n      <td>MoorePark,SummerhillEast</td>\n    </tr>\n    <tr>\n      <th>85</th>\n      <td>M5T</td>\n      <td>DowntownToronto</td>\n      <td>KensingtonMarket,Chinatown,GrangePark</td>\n    </tr>\n    <tr>\n      <th>86</th>\n      <td>M1V</td>\n      <td>Scarborough</td>\n      <td>Milliken,AgincourtNorth,SteelesEast,L'Amoreaux...</td>\n    </tr>\n    <tr>\n      <th>87</th>\n      <td>M4V</td>\n      <td>CentralToronto</td>\n      <td>SummerhillWest,Rathnelly,SouthHill,ForestHillS...</td>\n    </tr>\n    <tr>\n      <th>88</th>\n      <td>M5V</td>\n      <td>DowntownToronto</td>\n      <td>CNTower,KingandSpadina,RailwayLands,Harbourfro...</td>\n    </tr>\n    <tr>\n      <th>89</th>\n      <td>M8V</td>\n      <td>Etobicoke</td>\n      <td>NewToronto,MimicoSouth,HumberBayShores</td>\n    </tr>\n    <tr>\n      <th>90</th>\n      <td>M9V</td>\n      <td>Etobicoke</td>\n      <td>SouthSteeles,Silverstone,Humbergate,Jamestown,...</td>\n    </tr>\n    <tr>\n      <th>91</th>\n      <td>M1W</td>\n      <td>Scarborough</td>\n      <td>SteelesWest,L'AmoreauxWest</td>\n    </tr>\n    <tr>\n      <th>92</th>\n      <td>M4W</td>\n      <td>DowntownToronto</td>\n      <td>Rosedale</td>\n    </tr>\n    <tr>\n      <th>93</th>\n      <td>M5W</td>\n      <td>DowntownToronto</td>\n      <td>StnAPOBoxes</td>\n    </tr>\n    <tr>\n      <th>94</th>\n      <td>M8W</td>\n      <td>Etobicoke</td>\n      <td>Alderwood,LongBranch</td>\n    </tr>\n    <tr>\n      <th>95</th>\n      <td>M9W</td>\n      <td>Etobicoke</td>\n      <td>Northwest,WestHumber-Clairville</td>\n    </tr>\n    <tr>\n      <th>96</th>\n      <td>M1X</td>\n      <td>Scarborough</td>\n      <td>UpperRouge</td>\n    </tr>\n    <tr>\n      <th>97</th>\n      <td>M4X</td>\n      <td>DowntownToronto</td>\n      <td>St.JamesTown,Cabbagetown</td>\n    </tr>\n    <tr>\n      <th>98</th>\n      <td>M5X</td>\n      <td>DowntownToronto</td>\n      <td>FirstCanadianPlace,Undergroundcity</td>\n    </tr>\n    <tr>\n      <th>99</th>\n      <td>M8X</td>\n      <td>Etobicoke</td>\n      <td>TheKingsway,MontgomeryRoad,OldMillNorth</td>\n    </tr>\n    <tr>\n      <th>100</th>\n      <td>M4Y</td>\n      <td>DowntownToronto</td>\n      <td>ChurchandWellesley</td>\n    </tr>\n    <tr>\n      <th>101</th>\n      <td>M7Y</td>\n      <td>EastToronto</td>\n      <td>BusinessreplymailProcessingCentre,SouthCentral...</td>\n    </tr>\n    <tr>\n      <th>102</th>\n      <td>M8Y</td>\n      <td>Etobicoke</td>\n      <td>OldMillSouth,King'sMillPark,Sunnylea,HumberBay...</td>\n    </tr>\n    <tr>\n      <th>103</th>\n      <td>M8Z</td>\n      <td>Etobicoke</td>\n      <td>MimicoNW,TheQueenswayWest,SouthofBloor,Kingswa...</td>\n    </tr>\n    <tr>\n      <th>104</th>\n      <td></td>\n      <td></td>\n      <td>None</td>\n    </tr>\n    <tr>\n      <th>105</th>\n      <td>NLNSPENBQCONMBSKABBCNU/NTYTABCEGHJKLMNPRSTVXY</td>\n      <td>NL</td>\n      <td>NS,PE,NB,QC,ON,MB,SK,AB,BC,NU/NT,YT,A,B,C,E,G,...</td>\n    </tr>\n    <tr>\n      <th>106</th>\n      <td>NL</td>\n      <td>NS</td>\n      <td>PE,NB,QC,ON,MB,SK,AB,BC,NU/NT,YT</td>\n    </tr>\n    <tr>\n      <th>107</th>\n      <td>A</td>\n      <td>B</td>\n      <td>C,E,G,H,J,K,L,M,N,P,R,S,T,V,X,Y</td>\n    </tr>\n  </tbody>\n</table>\n<p>108 rows \u00d7 3 columns</p>\n</div>",
                        "text/plain": "                                                 0                1  \\\n0                                                              None   \n1                                              M3A        NorthYork   \n2                                              M4A        NorthYork   \n3                                              M5A  DowntownToronto   \n4                                              M6A        NorthYork   \n5                                              M7A  DowntownToronto   \n6                                              M9A        Etobicoke   \n7                                              M1B      Scarborough   \n8                                              M3B        NorthYork   \n9                                              M4B         EastYork   \n10                                             M5B  DowntownToronto   \n11                                             M6B        NorthYork   \n12                                             M9B        Etobicoke   \n13                                             M1C      Scarborough   \n14                                             M3C        NorthYork   \n15                                             M4C         EastYork   \n16                                             M5C  DowntownToronto   \n17                                             M6C             York   \n18                                             M9C        Etobicoke   \n19                                             M1E      Scarborough   \n20                                             M4E      EastToronto   \n21                                             M5E  DowntownToronto   \n22                                             M6E             York   \n23                                             M1G      Scarborough   \n24                                             M4G         EastYork   \n25                                             M5G  DowntownToronto   \n26                                             M6G  DowntownToronto   \n27                                             M1H      Scarborough   \n28                                             M2H        NorthYork   \n29                                             M3H        NorthYork   \n..                                             ...              ...   \n78                                             M9R        Etobicoke   \n79                                             M1S      Scarborough   \n80                                             M4S   CentralToronto   \n81                                             M5S  DowntownToronto   \n82                                             M6S      WestToronto   \n83                                             M1T      Scarborough   \n84                                             M4T   CentralToronto   \n85                                             M5T  DowntownToronto   \n86                                             M1V      Scarborough   \n87                                             M4V   CentralToronto   \n88                                             M5V  DowntownToronto   \n89                                             M8V        Etobicoke   \n90                                             M9V        Etobicoke   \n91                                             M1W      Scarborough   \n92                                             M4W  DowntownToronto   \n93                                             M5W  DowntownToronto   \n94                                             M8W        Etobicoke   \n95                                             M9W        Etobicoke   \n96                                             M1X      Scarborough   \n97                                             M4X  DowntownToronto   \n98                                             M5X  DowntownToronto   \n99                                             M8X        Etobicoke   \n100                                            M4Y  DowntownToronto   \n101                                            M7Y      EastToronto   \n102                                            M8Y        Etobicoke   \n103                                            M8Z        Etobicoke   \n104                                                                   \n105  NLNSPENBQCONMBSKABBCNU/NTYTABCEGHJKLMNPRSTVXY               NL   \n106                                             NL               NS   \n107                                              A                B   \n\n                                                     2  \n0                                                 None  \n1                                            Parkwoods  \n2                                      VictoriaVillage  \n3                              RegentPark,Harbourfront  \n4                        LawrenceManor,LawrenceHeights  \n5              Queen'sPark,OntarioProvincialGovernment  \n6                  IslingtonAvenue,HumberValleyVillage  \n7                                        Malvern,Rouge  \n8                                             DonMills  \n9                         ParkviewHill,WoodbineGardens  \n10                              GardenDistrict,Ryerson  \n11                                           Glencairn  \n12   WestDeanePark,PrincessGardens,MartinGrove,Isli...  \n13                   RougeHill,PortUnion,HighlandCreek  \n14                                            DonMills  \n15                                     WoodbineHeights  \n16                                        St.JamesTown  \n17                                  Humewood-Cedarvale  \n18   Eringate,BloordaleGardens,OldBurnhamthorpe,Mar...  \n19                      Guildwood,Morningside,WestHill  \n20                                          TheBeaches  \n21                                          BerczyPark  \n22                                 Caledonia-Fairbanks  \n23                                              Woburn  \n24                                             Leaside  \n25                                    CentralBayStreet  \n26                                            Christie  \n27                                           Cedarbrae  \n28                                    HillcrestVillage  \n29          BathurstManor,WilsonHeights,DownsviewNorth  \n..                                                 ...  \n78   KingsviewVillage,St.Phillips,MartinGroveGarden...  \n79                                           Agincourt  \n80                                          Davisville  \n81                         UniversityofToronto,Harbord  \n82                                   Runnymede,Swansea  \n83                 ClarksCorners,TamO'Shanter,Sullivan  \n84                            MoorePark,SummerhillEast  \n85               KensingtonMarket,Chinatown,GrangePark  \n86   Milliken,AgincourtNorth,SteelesEast,L'Amoreaux...  \n87   SummerhillWest,Rathnelly,SouthHill,ForestHillS...  \n88   CNTower,KingandSpadina,RailwayLands,Harbourfro...  \n89              NewToronto,MimicoSouth,HumberBayShores  \n90   SouthSteeles,Silverstone,Humbergate,Jamestown,...  \n91                          SteelesWest,L'AmoreauxWest  \n92                                            Rosedale  \n93                                         StnAPOBoxes  \n94                                Alderwood,LongBranch  \n95                     Northwest,WestHumber-Clairville  \n96                                          UpperRouge  \n97                            St.JamesTown,Cabbagetown  \n98                  FirstCanadianPlace,Undergroundcity  \n99             TheKingsway,MontgomeryRoad,OldMillNorth  \n100                                 ChurchandWellesley  \n101  BusinessreplymailProcessingCentre,SouthCentral...  \n102  OldMillSouth,King'sMillPark,Sunnylea,HumberBay...  \n103  MimicoNW,TheQueenswayWest,SouthofBloor,Kingswa...  \n104                                               None  \n105  NS,PE,NB,QC,ON,MB,SK,AB,BC,NU/NT,YT,A,B,C,E,G,...  \n106                   PE,NB,QC,ON,MB,SK,AB,BC,NU/NT,YT  \n107                    C,E,G,H,J,K,L,M,N,P,R,S,T,V,X,Y  \n\n[108 rows x 3 columns]"
                    },
                    "execution_count": 120,
                    "metadata": {},
                    "output_type": "execute_result"
                }
            ],
            "source": "df1=df[0].str.split(',',2,expand=True)\ndf1[0]=df1[0].str.strip('[]')\ndf1[1]=df1[1].str.strip('[]')\ndf1[2]=df1[2].str.strip('[]')\ndf1=df1[df1[1] != \"Notassigned\"]\ndf1=df1[df1[2] != \"Notassigned\"]\ndf1.reset_index(inplace=True,drop=True)\ndf1"
        },
        {
            "cell_type": "markdown",
            "metadata": {},
            "source": "#### Eliminating all unnecessary headers and trailers"
        },
        {
            "cell_type": "code",
            "execution_count": 121,
            "metadata": {},
            "outputs": [],
            "source": "df1=(df1[1:104])\ndf1.reset_index(inplace=True,drop=True)"
        },
        {
            "cell_type": "markdown",
            "metadata": {},
            "source": "#### setting column names for the dataframe"
        },
        {
            "cell_type": "code",
            "execution_count": 122,
            "metadata": {},
            "outputs": [],
            "source": "df1.columns=[\"PostalCode\",\"Borough\",\"Neighborhood\"]"
        },
        {
            "cell_type": "code",
            "execution_count": 123,
            "metadata": {},
            "outputs": [
                {
                    "data": {
                        "text/html": "<div>\n<style scoped>\n    .dataframe tbody tr th:only-of-type {\n        vertical-align: middle;\n    }\n\n    .dataframe tbody tr th {\n        vertical-align: top;\n    }\n\n    .dataframe thead th {\n        text-align: right;\n    }\n</style>\n<table border=\"1\" class=\"dataframe\">\n  <thead>\n    <tr style=\"text-align: right;\">\n      <th></th>\n      <th>PostalCode</th>\n      <th>Borough</th>\n      <th>Neighborhood</th>\n    </tr>\n  </thead>\n  <tbody>\n    <tr>\n      <th>0</th>\n      <td>M3A</td>\n      <td>NorthYork</td>\n      <td>Parkwoods</td>\n    </tr>\n    <tr>\n      <th>1</th>\n      <td>M4A</td>\n      <td>NorthYork</td>\n      <td>VictoriaVillage</td>\n    </tr>\n    <tr>\n      <th>2</th>\n      <td>M5A</td>\n      <td>DowntownToronto</td>\n      <td>RegentPark,Harbourfront</td>\n    </tr>\n    <tr>\n      <th>3</th>\n      <td>M6A</td>\n      <td>NorthYork</td>\n      <td>LawrenceManor,LawrenceHeights</td>\n    </tr>\n    <tr>\n      <th>4</th>\n      <td>M7A</td>\n      <td>DowntownToronto</td>\n      <td>Queen'sPark,OntarioProvincialGovernment</td>\n    </tr>\n    <tr>\n      <th>5</th>\n      <td>M9A</td>\n      <td>Etobicoke</td>\n      <td>IslingtonAvenue,HumberValleyVillage</td>\n    </tr>\n    <tr>\n      <th>6</th>\n      <td>M1B</td>\n      <td>Scarborough</td>\n      <td>Malvern,Rouge</td>\n    </tr>\n    <tr>\n      <th>7</th>\n      <td>M3B</td>\n      <td>NorthYork</td>\n      <td>DonMills</td>\n    </tr>\n    <tr>\n      <th>8</th>\n      <td>M4B</td>\n      <td>EastYork</td>\n      <td>ParkviewHill,WoodbineGardens</td>\n    </tr>\n    <tr>\n      <th>9</th>\n      <td>M5B</td>\n      <td>DowntownToronto</td>\n      <td>GardenDistrict,Ryerson</td>\n    </tr>\n    <tr>\n      <th>10</th>\n      <td>M6B</td>\n      <td>NorthYork</td>\n      <td>Glencairn</td>\n    </tr>\n    <tr>\n      <th>11</th>\n      <td>M9B</td>\n      <td>Etobicoke</td>\n      <td>WestDeanePark,PrincessGardens,MartinGrove,Isli...</td>\n    </tr>\n    <tr>\n      <th>12</th>\n      <td>M1C</td>\n      <td>Scarborough</td>\n      <td>RougeHill,PortUnion,HighlandCreek</td>\n    </tr>\n    <tr>\n      <th>13</th>\n      <td>M3C</td>\n      <td>NorthYork</td>\n      <td>DonMills</td>\n    </tr>\n    <tr>\n      <th>14</th>\n      <td>M4C</td>\n      <td>EastYork</td>\n      <td>WoodbineHeights</td>\n    </tr>\n    <tr>\n      <th>15</th>\n      <td>M5C</td>\n      <td>DowntownToronto</td>\n      <td>St.JamesTown</td>\n    </tr>\n    <tr>\n      <th>16</th>\n      <td>M6C</td>\n      <td>York</td>\n      <td>Humewood-Cedarvale</td>\n    </tr>\n    <tr>\n      <th>17</th>\n      <td>M9C</td>\n      <td>Etobicoke</td>\n      <td>Eringate,BloordaleGardens,OldBurnhamthorpe,Mar...</td>\n    </tr>\n    <tr>\n      <th>18</th>\n      <td>M1E</td>\n      <td>Scarborough</td>\n      <td>Guildwood,Morningside,WestHill</td>\n    </tr>\n    <tr>\n      <th>19</th>\n      <td>M4E</td>\n      <td>EastToronto</td>\n      <td>TheBeaches</td>\n    </tr>\n    <tr>\n      <th>20</th>\n      <td>M5E</td>\n      <td>DowntownToronto</td>\n      <td>BerczyPark</td>\n    </tr>\n    <tr>\n      <th>21</th>\n      <td>M6E</td>\n      <td>York</td>\n      <td>Caledonia-Fairbanks</td>\n    </tr>\n    <tr>\n      <th>22</th>\n      <td>M1G</td>\n      <td>Scarborough</td>\n      <td>Woburn</td>\n    </tr>\n    <tr>\n      <th>23</th>\n      <td>M4G</td>\n      <td>EastYork</td>\n      <td>Leaside</td>\n    </tr>\n    <tr>\n      <th>24</th>\n      <td>M5G</td>\n      <td>DowntownToronto</td>\n      <td>CentralBayStreet</td>\n    </tr>\n    <tr>\n      <th>25</th>\n      <td>M6G</td>\n      <td>DowntownToronto</td>\n      <td>Christie</td>\n    </tr>\n    <tr>\n      <th>26</th>\n      <td>M1H</td>\n      <td>Scarborough</td>\n      <td>Cedarbrae</td>\n    </tr>\n    <tr>\n      <th>27</th>\n      <td>M2H</td>\n      <td>NorthYork</td>\n      <td>HillcrestVillage</td>\n    </tr>\n    <tr>\n      <th>28</th>\n      <td>M3H</td>\n      <td>NorthYork</td>\n      <td>BathurstManor,WilsonHeights,DownsviewNorth</td>\n    </tr>\n    <tr>\n      <th>29</th>\n      <td>M4H</td>\n      <td>EastYork</td>\n      <td>ThorncliffePark</td>\n    </tr>\n    <tr>\n      <th>...</th>\n      <td>...</td>\n      <td>...</td>\n      <td>...</td>\n    </tr>\n    <tr>\n      <th>73</th>\n      <td>M4R</td>\n      <td>CentralToronto</td>\n      <td>NorthTorontoWest,LawrencePark</td>\n    </tr>\n    <tr>\n      <th>74</th>\n      <td>M5R</td>\n      <td>CentralToronto</td>\n      <td>TheAnnex,NorthMidtown,Yorkville</td>\n    </tr>\n    <tr>\n      <th>75</th>\n      <td>M6R</td>\n      <td>WestToronto</td>\n      <td>Parkdale,Roncesvalles</td>\n    </tr>\n    <tr>\n      <th>76</th>\n      <td>M7R</td>\n      <td>Mississauga</td>\n      <td>CanadaPostGatewayProcessingCentre</td>\n    </tr>\n    <tr>\n      <th>77</th>\n      <td>M9R</td>\n      <td>Etobicoke</td>\n      <td>KingsviewVillage,St.Phillips,MartinGroveGarden...</td>\n    </tr>\n    <tr>\n      <th>78</th>\n      <td>M1S</td>\n      <td>Scarborough</td>\n      <td>Agincourt</td>\n    </tr>\n    <tr>\n      <th>79</th>\n      <td>M4S</td>\n      <td>CentralToronto</td>\n      <td>Davisville</td>\n    </tr>\n    <tr>\n      <th>80</th>\n      <td>M5S</td>\n      <td>DowntownToronto</td>\n      <td>UniversityofToronto,Harbord</td>\n    </tr>\n    <tr>\n      <th>81</th>\n      <td>M6S</td>\n      <td>WestToronto</td>\n      <td>Runnymede,Swansea</td>\n    </tr>\n    <tr>\n      <th>82</th>\n      <td>M1T</td>\n      <td>Scarborough</td>\n      <td>ClarksCorners,TamO'Shanter,Sullivan</td>\n    </tr>\n    <tr>\n      <th>83</th>\n      <td>M4T</td>\n      <td>CentralToronto</td>\n      <td>MoorePark,SummerhillEast</td>\n    </tr>\n    <tr>\n      <th>84</th>\n      <td>M5T</td>\n      <td>DowntownToronto</td>\n      <td>KensingtonMarket,Chinatown,GrangePark</td>\n    </tr>\n    <tr>\n      <th>85</th>\n      <td>M1V</td>\n      <td>Scarborough</td>\n      <td>Milliken,AgincourtNorth,SteelesEast,L'Amoreaux...</td>\n    </tr>\n    <tr>\n      <th>86</th>\n      <td>M4V</td>\n      <td>CentralToronto</td>\n      <td>SummerhillWest,Rathnelly,SouthHill,ForestHillS...</td>\n    </tr>\n    <tr>\n      <th>87</th>\n      <td>M5V</td>\n      <td>DowntownToronto</td>\n      <td>CNTower,KingandSpadina,RailwayLands,Harbourfro...</td>\n    </tr>\n    <tr>\n      <th>88</th>\n      <td>M8V</td>\n      <td>Etobicoke</td>\n      <td>NewToronto,MimicoSouth,HumberBayShores</td>\n    </tr>\n    <tr>\n      <th>89</th>\n      <td>M9V</td>\n      <td>Etobicoke</td>\n      <td>SouthSteeles,Silverstone,Humbergate,Jamestown,...</td>\n    </tr>\n    <tr>\n      <th>90</th>\n      <td>M1W</td>\n      <td>Scarborough</td>\n      <td>SteelesWest,L'AmoreauxWest</td>\n    </tr>\n    <tr>\n      <th>91</th>\n      <td>M4W</td>\n      <td>DowntownToronto</td>\n      <td>Rosedale</td>\n    </tr>\n    <tr>\n      <th>92</th>\n      <td>M5W</td>\n      <td>DowntownToronto</td>\n      <td>StnAPOBoxes</td>\n    </tr>\n    <tr>\n      <th>93</th>\n      <td>M8W</td>\n      <td>Etobicoke</td>\n      <td>Alderwood,LongBranch</td>\n    </tr>\n    <tr>\n      <th>94</th>\n      <td>M9W</td>\n      <td>Etobicoke</td>\n      <td>Northwest,WestHumber-Clairville</td>\n    </tr>\n    <tr>\n      <th>95</th>\n      <td>M1X</td>\n      <td>Scarborough</td>\n      <td>UpperRouge</td>\n    </tr>\n    <tr>\n      <th>96</th>\n      <td>M4X</td>\n      <td>DowntownToronto</td>\n      <td>St.JamesTown,Cabbagetown</td>\n    </tr>\n    <tr>\n      <th>97</th>\n      <td>M5X</td>\n      <td>DowntownToronto</td>\n      <td>FirstCanadianPlace,Undergroundcity</td>\n    </tr>\n    <tr>\n      <th>98</th>\n      <td>M8X</td>\n      <td>Etobicoke</td>\n      <td>TheKingsway,MontgomeryRoad,OldMillNorth</td>\n    </tr>\n    <tr>\n      <th>99</th>\n      <td>M4Y</td>\n      <td>DowntownToronto</td>\n      <td>ChurchandWellesley</td>\n    </tr>\n    <tr>\n      <th>100</th>\n      <td>M7Y</td>\n      <td>EastToronto</td>\n      <td>BusinessreplymailProcessingCentre,SouthCentral...</td>\n    </tr>\n    <tr>\n      <th>101</th>\n      <td>M8Y</td>\n      <td>Etobicoke</td>\n      <td>OldMillSouth,King'sMillPark,Sunnylea,HumberBay...</td>\n    </tr>\n    <tr>\n      <th>102</th>\n      <td>M8Z</td>\n      <td>Etobicoke</td>\n      <td>MimicoNW,TheQueenswayWest,SouthofBloor,Kingswa...</td>\n    </tr>\n  </tbody>\n</table>\n<p>103 rows \u00d7 3 columns</p>\n</div>",
                        "text/plain": "    PostalCode          Borough  \\\n0          M3A        NorthYork   \n1          M4A        NorthYork   \n2          M5A  DowntownToronto   \n3          M6A        NorthYork   \n4          M7A  DowntownToronto   \n5          M9A        Etobicoke   \n6          M1B      Scarborough   \n7          M3B        NorthYork   \n8          M4B         EastYork   \n9          M5B  DowntownToronto   \n10         M6B        NorthYork   \n11         M9B        Etobicoke   \n12         M1C      Scarborough   \n13         M3C        NorthYork   \n14         M4C         EastYork   \n15         M5C  DowntownToronto   \n16         M6C             York   \n17         M9C        Etobicoke   \n18         M1E      Scarborough   \n19         M4E      EastToronto   \n20         M5E  DowntownToronto   \n21         M6E             York   \n22         M1G      Scarborough   \n23         M4G         EastYork   \n24         M5G  DowntownToronto   \n25         M6G  DowntownToronto   \n26         M1H      Scarborough   \n27         M2H        NorthYork   \n28         M3H        NorthYork   \n29         M4H         EastYork   \n..         ...              ...   \n73         M4R   CentralToronto   \n74         M5R   CentralToronto   \n75         M6R      WestToronto   \n76         M7R      Mississauga   \n77         M9R        Etobicoke   \n78         M1S      Scarborough   \n79         M4S   CentralToronto   \n80         M5S  DowntownToronto   \n81         M6S      WestToronto   \n82         M1T      Scarborough   \n83         M4T   CentralToronto   \n84         M5T  DowntownToronto   \n85         M1V      Scarborough   \n86         M4V   CentralToronto   \n87         M5V  DowntownToronto   \n88         M8V        Etobicoke   \n89         M9V        Etobicoke   \n90         M1W      Scarborough   \n91         M4W  DowntownToronto   \n92         M5W  DowntownToronto   \n93         M8W        Etobicoke   \n94         M9W        Etobicoke   \n95         M1X      Scarborough   \n96         M4X  DowntownToronto   \n97         M5X  DowntownToronto   \n98         M8X        Etobicoke   \n99         M4Y  DowntownToronto   \n100        M7Y      EastToronto   \n101        M8Y        Etobicoke   \n102        M8Z        Etobicoke   \n\n                                          Neighborhood  \n0                                            Parkwoods  \n1                                      VictoriaVillage  \n2                              RegentPark,Harbourfront  \n3                        LawrenceManor,LawrenceHeights  \n4              Queen'sPark,OntarioProvincialGovernment  \n5                  IslingtonAvenue,HumberValleyVillage  \n6                                        Malvern,Rouge  \n7                                             DonMills  \n8                         ParkviewHill,WoodbineGardens  \n9                               GardenDistrict,Ryerson  \n10                                           Glencairn  \n11   WestDeanePark,PrincessGardens,MartinGrove,Isli...  \n12                   RougeHill,PortUnion,HighlandCreek  \n13                                            DonMills  \n14                                     WoodbineHeights  \n15                                        St.JamesTown  \n16                                  Humewood-Cedarvale  \n17   Eringate,BloordaleGardens,OldBurnhamthorpe,Mar...  \n18                      Guildwood,Morningside,WestHill  \n19                                          TheBeaches  \n20                                          BerczyPark  \n21                                 Caledonia-Fairbanks  \n22                                              Woburn  \n23                                             Leaside  \n24                                    CentralBayStreet  \n25                                            Christie  \n26                                           Cedarbrae  \n27                                    HillcrestVillage  \n28          BathurstManor,WilsonHeights,DownsviewNorth  \n29                                     ThorncliffePark  \n..                                                 ...  \n73                       NorthTorontoWest,LawrencePark  \n74                     TheAnnex,NorthMidtown,Yorkville  \n75                               Parkdale,Roncesvalles  \n76                   CanadaPostGatewayProcessingCentre  \n77   KingsviewVillage,St.Phillips,MartinGroveGarden...  \n78                                           Agincourt  \n79                                          Davisville  \n80                         UniversityofToronto,Harbord  \n81                                   Runnymede,Swansea  \n82                 ClarksCorners,TamO'Shanter,Sullivan  \n83                            MoorePark,SummerhillEast  \n84               KensingtonMarket,Chinatown,GrangePark  \n85   Milliken,AgincourtNorth,SteelesEast,L'Amoreaux...  \n86   SummerhillWest,Rathnelly,SouthHill,ForestHillS...  \n87   CNTower,KingandSpadina,RailwayLands,Harbourfro...  \n88              NewToronto,MimicoSouth,HumberBayShores  \n89   SouthSteeles,Silverstone,Humbergate,Jamestown,...  \n90                          SteelesWest,L'AmoreauxWest  \n91                                            Rosedale  \n92                                         StnAPOBoxes  \n93                                Alderwood,LongBranch  \n94                     Northwest,WestHumber-Clairville  \n95                                          UpperRouge  \n96                            St.JamesTown,Cabbagetown  \n97                  FirstCanadianPlace,Undergroundcity  \n98             TheKingsway,MontgomeryRoad,OldMillNorth  \n99                                  ChurchandWellesley  \n100  BusinessreplymailProcessingCentre,SouthCentral...  \n101  OldMillSouth,King'sMillPark,Sunnylea,HumberBay...  \n102  MimicoNW,TheQueenswayWest,SouthofBloor,Kingswa...  \n\n[103 rows x 3 columns]"
                    },
                    "execution_count": 123,
                    "metadata": {},
                    "output_type": "execute_result"
                }
            ],
            "source": "df1"
        },
        {
            "cell_type": "code",
            "execution_count": 124,
            "metadata": {},
            "outputs": [
                {
                    "data": {
                        "text/plain": "(103, 3)"
                    },
                    "execution_count": 124,
                    "metadata": {},
                    "output_type": "execute_result"
                }
            ],
            "source": "df1.shape"
        },
        {
            "cell_type": "code",
            "execution_count": null,
            "metadata": {},
            "outputs": [],
            "source": ""
        }
    ],
    "metadata": {
        "kernelspec": {
            "display_name": "Python 3.6",
            "language": "python",
            "name": "python3"
        },
        "language_info": {
            "codemirror_mode": {
                "name": "ipython",
                "version": 3
            },
            "file_extension": ".py",
            "mimetype": "text/x-python",
            "name": "python",
            "nbconvert_exporter": "python",
            "pygments_lexer": "ipython3",
            "version": "3.6.9"
        }
    },
    "nbformat": 4,
    "nbformat_minor": 1
}